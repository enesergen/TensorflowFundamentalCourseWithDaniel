{
  "nbformat": 4,
  "nbformat_minor": 0,
  "metadata": {
    "colab": {
      "provenance": [],
      "authorship_tag": "ABX9TyMWhYgyZsdLjbzlXRxybqnc",
      "include_colab_link": true
    },
    "kernelspec": {
      "name": "python3",
      "display_name": "Python 3"
    },
    "language_info": {
      "name": "python"
    }
  },
  "cells": [
    {
      "cell_type": "markdown",
      "metadata": {
        "id": "view-in-github",
        "colab_type": "text"
      },
      "source": [
        "<a href=\"https://colab.research.google.com/github/enesergen/TensorflowFundamentalCourseWithDaniel/blob/main/00_tensorflow_fundamentals.ipynb\" target=\"_parent\"><img src=\"https://colab.research.google.com/assets/colab-badge.svg\" alt=\"Open In Colab\"/></a>"
      ]
    },
    {
      "cell_type": "code",
      "execution_count": 1,
      "metadata": {
        "colab": {
          "base_uri": "https://localhost:8080/"
        },
        "id": "kBPHbFWqsAnp",
        "outputId": "8ee7996b-a1c7-432f-c578-b400fec17a71"
      },
      "outputs": [
        {
          "output_type": "stream",
          "name": "stdout",
          "text": [
            "2.9.2\n"
          ]
        }
      ],
      "source": [
        "import tensorflow as tf\n",
        "print(tf.__version__)"
      ]
    },
    {
      "cell_type": "code",
      "source": [
        "#tf.constant  ile tensor oluşturma\n",
        "scaler=tf.constant(6)\n",
        "scaler"
      ],
      "metadata": {
        "colab": {
          "base_uri": "https://localhost:8080/"
        },
        "id": "J7Nu0O62t2x6",
        "outputId": "018b57a4-915d-4575-a931-3cd63e4b61e9"
      },
      "execution_count": 2,
      "outputs": [
        {
          "output_type": "execute_result",
          "data": {
            "text/plain": [
              "<tf.Tensor: shape=(), dtype=int32, numpy=6>"
            ]
          },
          "metadata": {},
          "execution_count": 2
        }
      ]
    },
    {
      "cell_type": "code",
      "source": [
        "scaler.ndim#tensorun boyutunu veriri ndim=number of dimension sanırım rank da diebiliriz"
      ],
      "metadata": {
        "colab": {
          "base_uri": "https://localhost:8080/"
        },
        "id": "GIdE5Ehiuuq8",
        "outputId": "01a6629f-cf31-4448-c42f-9f4384afb95e"
      },
      "execution_count": 3,
      "outputs": [
        {
          "output_type": "execute_result",
          "data": {
            "text/plain": [
              "0"
            ]
          },
          "metadata": {},
          "execution_count": 3
        }
      ]
    },
    {
      "cell_type": "code",
      "source": [
        "#vector oluşturma\n",
        "vector=tf.constant([12,6])\n",
        "vector"
      ],
      "metadata": {
        "colab": {
          "base_uri": "https://localhost:8080/"
        },
        "id": "bctFAZ5Nu_Nc",
        "outputId": "ecbb9e4d-4700-45ce-943e-a08bb148e74b"
      },
      "execution_count": 4,
      "outputs": [
        {
          "output_type": "execute_result",
          "data": {
            "text/plain": [
              "<tf.Tensor: shape=(2,), dtype=int32, numpy=array([12,  6], dtype=int32)>"
            ]
          },
          "metadata": {},
          "execution_count": 4
        }
      ]
    },
    {
      "cell_type": "code",
      "source": [
        "vector.ndim"
      ],
      "metadata": {
        "colab": {
          "base_uri": "https://localhost:8080/"
        },
        "id": "Rl6E0HSqvGe7",
        "outputId": "9f06a58b-5062-4d61-a6c3-6e2346dd1f36"
      },
      "execution_count": 5,
      "outputs": [
        {
          "output_type": "execute_result",
          "data": {
            "text/plain": [
              "1"
            ]
          },
          "metadata": {},
          "execution_count": 5
        }
      ]
    },
    {
      "cell_type": "code",
      "source": [
        "#matrix oluşturma\n",
        "matrix=tf.constant([[2,6],[3,5]])\n",
        "matrix"
      ],
      "metadata": {
        "colab": {
          "base_uri": "https://localhost:8080/"
        },
        "id": "3wVA2CWyvRKv",
        "outputId": "ae167eaf-a3d8-4831-e243-093cdef6b57c"
      },
      "execution_count": 6,
      "outputs": [
        {
          "output_type": "execute_result",
          "data": {
            "text/plain": [
              "<tf.Tensor: shape=(2, 2), dtype=int32, numpy=\n",
              "array([[2, 6],\n",
              "       [3, 5]], dtype=int32)>"
            ]
          },
          "metadata": {},
          "execution_count": 6
        }
      ]
    },
    {
      "cell_type": "code",
      "source": [
        "matrix.ndim"
      ],
      "metadata": {
        "colab": {
          "base_uri": "https://localhost:8080/"
        },
        "id": "lYQGA06KvcnL",
        "outputId": "d4002eb9-5086-404b-c9c4-b2820381c6de"
      },
      "execution_count": 7,
      "outputs": [
        {
          "output_type": "execute_result",
          "data": {
            "text/plain": [
              "2"
            ]
          },
          "metadata": {},
          "execution_count": 7
        }
      ]
    },
    {
      "cell_type": "code",
      "source": [
        "#başka bir matrix oluşturma\n",
        "another_matrix=tf.constant([[10.,7.],\n",
        "                            [5.,3.],\n",
        "                            [2.,9.]],dtype=tf.float16)\n",
        "another_matrix"
      ],
      "metadata": {
        "colab": {
          "base_uri": "https://localhost:8080/"
        },
        "id": "ErjzjdvVvzjn",
        "outputId": "2ad6bb31-e33b-445a-a462-fa7227cb54ae"
      },
      "execution_count": 8,
      "outputs": [
        {
          "output_type": "execute_result",
          "data": {
            "text/plain": [
              "<tf.Tensor: shape=(3, 2), dtype=float16, numpy=\n",
              "array([[10.,  7.],\n",
              "       [ 5.,  3.],\n",
              "       [ 2.,  9.]], dtype=float16)>"
            ]
          },
          "metadata": {},
          "execution_count": 8
        }
      ]
    },
    {
      "cell_type": "code",
      "source": [
        "another_matrix.ndim"
      ],
      "metadata": {
        "colab": {
          "base_uri": "https://localhost:8080/"
        },
        "id": "h2Zpd8xxwH4K",
        "outputId": "d898c99e-0009-4acf-dba7-589901e31931"
      },
      "execution_count": 9,
      "outputs": [
        {
          "output_type": "execute_result",
          "data": {
            "text/plain": [
              "2"
            ]
          },
          "metadata": {},
          "execution_count": 9
        }
      ]
    },
    {
      "cell_type": "code",
      "source": [
        "tensor=tf.constant([\n",
        "    [\n",
        "        [1,2,3],[4,5,6]],[[7,8,9],[10,11,12]],[[13,14,15],[16,17,18]\n",
        "                                               ]\n",
        "                    ]\n",
        "                   )\n",
        "tensor"
      ],
      "metadata": {
        "colab": {
          "base_uri": "https://localhost:8080/"
        },
        "id": "Go31mbjPxNV-",
        "outputId": "00085036-7535-436c-8a50-a952fca8ebdf"
      },
      "execution_count": 10,
      "outputs": [
        {
          "output_type": "execute_result",
          "data": {
            "text/plain": [
              "<tf.Tensor: shape=(3, 2, 3), dtype=int32, numpy=\n",
              "array([[[ 1,  2,  3],\n",
              "        [ 4,  5,  6]],\n",
              "\n",
              "       [[ 7,  8,  9],\n",
              "        [10, 11, 12]],\n",
              "\n",
              "       [[13, 14, 15],\n",
              "        [16, 17, 18]]], dtype=int32)>"
            ]
          },
          "metadata": {},
          "execution_count": 10
        }
      ]
    },
    {
      "cell_type": "code",
      "source": [
        "tensor.ndim"
      ],
      "metadata": {
        "colab": {
          "base_uri": "https://localhost:8080/"
        },
        "id": "Bq8RCHooyk8p",
        "outputId": "d8e99207-498c-46ab-c993-fefa9b7b0fa2"
      },
      "execution_count": 11,
      "outputs": [
        {
          "output_type": "execute_result",
          "data": {
            "text/plain": [
              "3"
            ]
          },
          "metadata": {},
          "execution_count": 11
        }
      ]
    },
    {
      "cell_type": "markdown",
      "source": [
        "#Yukarıda ne öğrendik:\n",
        "* Scaler:0 boyutlu. \n",
        "* Vector=1 boyutlu.\n",
        "* matrix=2 boyutlu\n",
        "* tensor=n boyutlu olabilir tamamen oluşturmaya göre boyut sayısını siz belirleyebiliyoruz.\n",
        "\n"
      ],
      "metadata": {
        "id": "JNf46NhKzTZX"
      }
    },
    {
      "cell_type": "code",
      "source": [
        "#tf.variable ile tensor oluşturma\n",
        "changeable_tesnor=tf.Variable([3,4])#değiştirilebilir tensor yani verdiğimiz değerleri değiştirebiliyoruz\n",
        "unchangeable_tesnor=tf.constant([3,4])#constant sabit değerli tensor\n",
        "changeable_tesnor,unchangeable_tesnor"
      ],
      "metadata": {
        "colab": {
          "base_uri": "https://localhost:8080/"
        },
        "id": "87EsOxPMyoD-",
        "outputId": "344113cb-d19e-4161-ecbf-441fcb12ddaf"
      },
      "execution_count": 12,
      "outputs": [
        {
          "output_type": "execute_result",
          "data": {
            "text/plain": [
              "(<tf.Variable 'Variable:0' shape=(2,) dtype=int32, numpy=array([3, 4], dtype=int32)>,\n",
              " <tf.Tensor: shape=(2,), dtype=int32, numpy=array([3, 4], dtype=int32)>)"
            ]
          },
          "metadata": {},
          "execution_count": 12
        }
      ]
    },
    {
      "cell_type": "code",
      "source": [
        "#değiştirmeyi deneyelim \n",
        "changeable_tesnor[0]"
      ],
      "metadata": {
        "colab": {
          "base_uri": "https://localhost:8080/"
        },
        "id": "d2B2IJ660R9z",
        "outputId": "0e52a203-d676-47ac-9344-90f7589f8cb6"
      },
      "execution_count": 13,
      "outputs": [
        {
          "output_type": "execute_result",
          "data": {
            "text/plain": [
              "<tf.Tensor: shape=(), dtype=int32, numpy=3>"
            ]
          },
          "metadata": {},
          "execution_count": 13
        }
      ]
    },
    {
      "cell_type": "code",
      "source": [
        "changeable_tesnor[0].assign(22)\n",
        "changeable_tesnor"
      ],
      "metadata": {
        "colab": {
          "base_uri": "https://localhost:8080/"
        },
        "id": "2cT6kfu51det",
        "outputId": "a17f8f7b-53d6-4970-e689-aa3c5fd50b9a"
      },
      "execution_count": 14,
      "outputs": [
        {
          "output_type": "execute_result",
          "data": {
            "text/plain": [
              "<tf.Variable 'Variable:0' shape=(2,) dtype=int32, numpy=array([22,  4], dtype=int32)>"
            ]
          },
          "metadata": {},
          "execution_count": 14
        }
      ]
    },
    {
      "cell_type": "markdown",
      "source": [
        "**Eğer ileride değiştirmek zorunda olacağımız bir tensor ile çalışacaksak tf.Variable() ile oluşturmamız gerekiyor aksi halde tf.constant() ile oluşturursak bunu değiştirmek mümkün olmayacaktır.`**"
      ],
      "metadata": {
        "id": "3d2AqN2x26h9"
      }
    },
    {
      "cell_type": "code",
      "source": [
        "#random tensor oluşturma\n",
        "random_tensor1=tf.random.Generator.from_seed(42)\n",
        "random_tensor1=random_tensor1.normal(shape=(3,2))#normal dağılım kullanarak oluşturuyor \n",
        "random_tensor2=tf.random.Generator.from_seed(42)\n",
        "random_tensor2=random_tensor2.normal(shape=(3,2))\n",
        "random_tensor1,random_tensor1,random_tensor1==random_tensor2"
      ],
      "metadata": {
        "colab": {
          "base_uri": "https://localhost:8080/"
        },
        "id": "OTpXl2SF1iAX",
        "outputId": "f2bacaf0-55e3-4eea-e4d3-44e26b0e09dd"
      },
      "execution_count": 15,
      "outputs": [
        {
          "output_type": "execute_result",
          "data": {
            "text/plain": [
              "(<tf.Tensor: shape=(3, 2), dtype=float32, numpy=\n",
              " array([[-0.7565803 , -0.06854702],\n",
              "        [ 0.07595026, -1.2573844 ],\n",
              "        [-0.23193763, -1.8107855 ]], dtype=float32)>,\n",
              " <tf.Tensor: shape=(3, 2), dtype=float32, numpy=\n",
              " array([[-0.7565803 , -0.06854702],\n",
              "        [ 0.07595026, -1.2573844 ],\n",
              "        [-0.23193763, -1.8107855 ]], dtype=float32)>,\n",
              " <tf.Tensor: shape=(3, 2), dtype=bool, numpy=\n",
              " array([[ True,  True],\n",
              "        [ True,  True],\n",
              "        [ True,  True]])>)"
            ]
          },
          "metadata": {},
          "execution_count": 15
        }
      ]
    },
    {
      "cell_type": "markdown",
      "source": [
        "** Öğrenme algoritmasını daha iyi hale getirmek için verisetmizi shuffle karıştırma işlemi yapmamız gerekiyor örnek olarak 15bin verilik ilk verisetinin ilk 10bin tanesi bisiklet sonraki 5bin tanesi araba olsun burada sistemimiz ilk 10bin taneden sadece bisikteli öğrenir onun için kendisini eğitir bunun önüne geçebilmek için shuffle yani karıştırma işlemi yapmamız gerekir**"
      ],
      "metadata": {
        "id": "H02RhhUx7LPh"
      }
    },
    {
      "cell_type": "code",
      "source": [
        "#tensor için shuffle işlemini yapmak\n",
        "not_shuffled=tf.constant([\n",
        "    [1,2,3],[4,5,6],[7,8,9]\n",
        "])\n",
        "not_shuffled.ndim"
      ],
      "metadata": {
        "colab": {
          "base_uri": "https://localhost:8080/"
        },
        "id": "sRyWtsEw7Kau",
        "outputId": "a0882f43-dc49-4d24-e19e-0ceff1b816ce"
      },
      "execution_count": 16,
      "outputs": [
        {
          "output_type": "execute_result",
          "data": {
            "text/plain": [
              "2"
            ]
          },
          "metadata": {},
          "execution_count": 16
        }
      ]
    },
    {
      "cell_type": "code",
      "source": [
        "not_shuffled"
      ],
      "metadata": {
        "colab": {
          "base_uri": "https://localhost:8080/"
        },
        "id": "SVOP09Mi6gdJ",
        "outputId": "5cb94555-d5f0-454a-cd74-5b4f5e743880"
      },
      "execution_count": 17,
      "outputs": [
        {
          "output_type": "execute_result",
          "data": {
            "text/plain": [
              "<tf.Tensor: shape=(3, 3), dtype=int32, numpy=\n",
              "array([[1, 2, 3],\n",
              "       [4, 5, 6],\n",
              "       [7, 8, 9]], dtype=int32)>"
            ]
          },
          "metadata": {},
          "execution_count": 17
        }
      ]
    },
    {
      "cell_type": "code",
      "source": [
        "tf.random.shuffle(not_shuffled)#random.shuffly first dimension yani (3,3) ün ilk 3 teki boyut üzerinde karışıklık yapar sonraki boyuta karışmaz "
      ],
      "metadata": {
        "colab": {
          "base_uri": "https://localhost:8080/"
        },
        "id": "DIak-x0O8RIq",
        "outputId": "828eda78-6874-4eab-e381-12872c2aec58"
      },
      "execution_count": 18,
      "outputs": [
        {
          "output_type": "execute_result",
          "data": {
            "text/plain": [
              "<tf.Tensor: shape=(3, 3), dtype=int32, numpy=\n",
              "array([[4, 5, 6],\n",
              "       [7, 8, 9],\n",
              "       [1, 2, 3]], dtype=int32)>"
            ]
          },
          "metadata": {},
          "execution_count": 18
        }
      ]
    },
    {
      "cell_type": "code",
      "source": [
        "tf.random.shuffle(not_shuffled)#random.shuffly first dimension yani (3,3) ün ilk 3 teki boyut üzerinde karışıklık yapar sonraki boyuta karışmaz "
      ],
      "metadata": {
        "colab": {
          "base_uri": "https://localhost:8080/"
        },
        "id": "jwZDxRHr84Ga",
        "outputId": "21207f6e-28b6-48c5-8dc9-482adc048e40"
      },
      "execution_count": 19,
      "outputs": [
        {
          "output_type": "execute_result",
          "data": {
            "text/plain": [
              "<tf.Tensor: shape=(3, 3), dtype=int32, numpy=\n",
              "array([[4, 5, 6],\n",
              "       [1, 2, 3],\n",
              "       [7, 8, 9]], dtype=int32)>"
            ]
          },
          "metadata": {},
          "execution_count": 19
        }
      ]
    },
    {
      "cell_type": "code",
      "source": [
        "tf.random.shuffle(not_shuffled,seed=42)# seed sayısını verdiğimiz zaman ne kadar tekrar çalıştırsakta karıştırma sonucu hep aynı olacaktır\n",
        "#kodu birden fazlakez çalıştırdım ama sonuç hep aynı sırada çıktı shuffle yaptı ama tekrar tekrar çalıştırdığımda da aynı sonucu elde ettim\n",
        "#ayrıca 2 tür seed vardır bir global bide operation level seed vardır bunlar biri fonksiyon içinde seed= ile diğeri ise tensor.set_seed() şeklinde kullanılılır \n",
        "#bunların farkı sanıyorumki operasyon içindeki sadece o satır için etkili ama global olan bir kere tanımlıyorsunuz ve tüm farklı satırlardaki shuffle için aynı seed değeri kullanılıyor"
      ],
      "metadata": {
        "colab": {
          "base_uri": "https://localhost:8080/"
        },
        "id": "Kg6c0Xd89zcn",
        "outputId": "d4903b9b-0ce7-49b4-f270-b575602dc9ee"
      },
      "execution_count": 20,
      "outputs": [
        {
          "output_type": "execute_result",
          "data": {
            "text/plain": [
              "<tf.Tensor: shape=(3, 3), dtype=int32, numpy=\n",
              "array([[7, 8, 9],\n",
              "       [4, 5, 6],\n",
              "       [1, 2, 3]], dtype=int32)>"
            ]
          },
          "metadata": {},
          "execution_count": 20
        }
      ]
    },
    {
      "cell_type": "code",
      "source": [
        "#other tensors\n",
        "#numpy ones:içinin 1 ile dolu olan tensor oluşturur.\n",
        "tf.ones([7,10])"
      ],
      "metadata": {
        "colab": {
          "base_uri": "https://localhost:8080/"
        },
        "id": "TMLQWlbxPhqU",
        "outputId": "9ed41f35-34ce-461d-c6e3-d6173c82e0a8"
      },
      "execution_count": 21,
      "outputs": [
        {
          "output_type": "execute_result",
          "data": {
            "text/plain": [
              "<tf.Tensor: shape=(7, 10), dtype=float32, numpy=\n",
              "array([[1., 1., 1., 1., 1., 1., 1., 1., 1., 1.],\n",
              "       [1., 1., 1., 1., 1., 1., 1., 1., 1., 1.],\n",
              "       [1., 1., 1., 1., 1., 1., 1., 1., 1., 1.],\n",
              "       [1., 1., 1., 1., 1., 1., 1., 1., 1., 1.],\n",
              "       [1., 1., 1., 1., 1., 1., 1., 1., 1., 1.],\n",
              "       [1., 1., 1., 1., 1., 1., 1., 1., 1., 1.],\n",
              "       [1., 1., 1., 1., 1., 1., 1., 1., 1., 1.]], dtype=float32)>"
            ]
          },
          "metadata": {},
          "execution_count": 21
        }
      ]
    },
    {
      "cell_type": "code",
      "source": [
        "tf.zeros([3,4])#hepsi 0 olan bir tensor oluşturur"
      ],
      "metadata": {
        "colab": {
          "base_uri": "https://localhost:8080/"
        },
        "id": "fSqpzvPVQY2u",
        "outputId": "81f86638-a330-4376-c08b-987ce56a1e21"
      },
      "execution_count": 22,
      "outputs": [
        {
          "output_type": "execute_result",
          "data": {
            "text/plain": [
              "<tf.Tensor: shape=(3, 4), dtype=float32, numpy=\n",
              "array([[0., 0., 0., 0.],\n",
              "       [0., 0., 0., 0.],\n",
              "       [0., 0., 0., 0.]], dtype=float32)>"
            ]
          },
          "metadata": {},
          "execution_count": 22
        }
      ]
    },
    {
      "cell_type": "code",
      "source": [
        "tf.zeros(shape=(3,4))#farklı bir gösterimi"
      ],
      "metadata": {
        "colab": {
          "base_uri": "https://localhost:8080/"
        },
        "id": "labuYMhGQbbc",
        "outputId": "58dcc2e4-eb43-4806-e8ae-332937d0d052"
      },
      "execution_count": 23,
      "outputs": [
        {
          "output_type": "execute_result",
          "data": {
            "text/plain": [
              "<tf.Tensor: shape=(3, 4), dtype=float32, numpy=\n",
              "array([[0., 0., 0., 0.],\n",
              "       [0., 0., 0., 0.],\n",
              "       [0., 0., 0., 0.]], dtype=float32)>"
            ]
          },
          "metadata": {},
          "execution_count": 23
        }
      ]
    },
    {
      "cell_type": "markdown",
      "source": [
        "# * Numpy  array ile tensor arasındaki en büyük fark; tensorlar GPU üzerinde çalışabilirler bu yüzden çok hızlı matematiksel hesaplamaları yapılabilir."
      ],
      "metadata": {
        "id": "Q8yOwPMGRCO_"
      }
    },
    {
      "cell_type": "code",
      "source": [
        "#ayrıca numpy array leri tensor lara dönüştürebiliriz\n",
        "import numpy as np\n",
        "numpy_A=np.arange(1,25,dtype=np.int32) #numpy array oluşturma 1 ile 20 arasında int32bit tipinde \n",
        "numpy_A"
      ],
      "metadata": {
        "colab": {
          "base_uri": "https://localhost:8080/"
        },
        "id": "SAWYdOTBQyon",
        "outputId": "d87bc063-b192-4bc8-ccfc-6c6f42e9e5c9"
      },
      "execution_count": 24,
      "outputs": [
        {
          "output_type": "execute_result",
          "data": {
            "text/plain": [
              "array([ 1,  2,  3,  4,  5,  6,  7,  8,  9, 10, 11, 12, 13, 14, 15, 16, 17,\n",
              "       18, 19, 20, 21, 22, 23, 24], dtype=int32)"
            ]
          },
          "metadata": {},
          "execution_count": 24
        }
      ]
    },
    {
      "cell_type": "code",
      "source": [
        "#numpy array'i tensor a dönüştürme\n",
        "A=tf.constant(numpy_A)\n",
        "A"
      ],
      "metadata": {
        "colab": {
          "base_uri": "https://localhost:8080/"
        },
        "id": "2HdkE11sR3rB",
        "outputId": "7670df10-04a8-4720-e829-d00aec7758be"
      },
      "execution_count": 25,
      "outputs": [
        {
          "output_type": "execute_result",
          "data": {
            "text/plain": [
              "<tf.Tensor: shape=(24,), dtype=int32, numpy=\n",
              "array([ 1,  2,  3,  4,  5,  6,  7,  8,  9, 10, 11, 12, 13, 14, 15, 16, 17,\n",
              "       18, 19, 20, 21, 22, 23, 24], dtype=int32)>"
            ]
          },
          "metadata": {},
          "execution_count": 25
        }
      ]
    },
    {
      "cell_type": "code",
      "source": [
        "#ayrıca dönüştürme sırasında shape üzerinde de bir değişklik yapabilriz\n",
        "B=tf.constant(numpy_A,shape=(2,3,4))#burada 2*3*4=24 numpy array deki eleman sayısını karşılamalıdır.\n",
        "B"
      ],
      "metadata": {
        "colab": {
          "base_uri": "https://localhost:8080/"
        },
        "id": "pwadZMooSK5B",
        "outputId": "4b2d5de2-7670-4074-b110-2af9bcb472b4"
      },
      "execution_count": 26,
      "outputs": [
        {
          "output_type": "execute_result",
          "data": {
            "text/plain": [
              "<tf.Tensor: shape=(2, 3, 4), dtype=int32, numpy=\n",
              "array([[[ 1,  2,  3,  4],\n",
              "        [ 5,  6,  7,  8],\n",
              "        [ 9, 10, 11, 12]],\n",
              "\n",
              "       [[13, 14, 15, 16],\n",
              "        [17, 18, 19, 20],\n",
              "        [21, 22, 23, 24]]], dtype=int32)>"
            ]
          },
          "metadata": {},
          "execution_count": 26
        }
      ]
    },
    {
      "cell_type": "markdown",
      "source": [
        "### Tensor hakkında bilgiler\n",
        "* Shape\n",
        "* Rank\n",
        "* Axis or dimension(boyut)\n",
        "* Size"
      ],
      "metadata": {
        "id": "t3scneOOT_8Q"
      }
    },
    {
      "cell_type": "code",
      "source": [
        "#rank 4 olan bir tensor oluşturalım 4 dimension boyutlu demek\n",
        "rank_4_tensor=tf.zeros(shape=(2,3,4,5))\n",
        "rank_4_tensor"
      ],
      "metadata": {
        "colab": {
          "base_uri": "https://localhost:8080/"
        },
        "id": "PN4gEovcT_oM",
        "outputId": "eb747ad2-2f5d-4047-bdee-fa1c86fa5967"
      },
      "execution_count": 27,
      "outputs": [
        {
          "output_type": "execute_result",
          "data": {
            "text/plain": [
              "<tf.Tensor: shape=(2, 3, 4, 5), dtype=float32, numpy=\n",
              "array([[[[0., 0., 0., 0., 0.],\n",
              "         [0., 0., 0., 0., 0.],\n",
              "         [0., 0., 0., 0., 0.],\n",
              "         [0., 0., 0., 0., 0.]],\n",
              "\n",
              "        [[0., 0., 0., 0., 0.],\n",
              "         [0., 0., 0., 0., 0.],\n",
              "         [0., 0., 0., 0., 0.],\n",
              "         [0., 0., 0., 0., 0.]],\n",
              "\n",
              "        [[0., 0., 0., 0., 0.],\n",
              "         [0., 0., 0., 0., 0.],\n",
              "         [0., 0., 0., 0., 0.],\n",
              "         [0., 0., 0., 0., 0.]]],\n",
              "\n",
              "\n",
              "       [[[0., 0., 0., 0., 0.],\n",
              "         [0., 0., 0., 0., 0.],\n",
              "         [0., 0., 0., 0., 0.],\n",
              "         [0., 0., 0., 0., 0.]],\n",
              "\n",
              "        [[0., 0., 0., 0., 0.],\n",
              "         [0., 0., 0., 0., 0.],\n",
              "         [0., 0., 0., 0., 0.],\n",
              "         [0., 0., 0., 0., 0.]],\n",
              "\n",
              "        [[0., 0., 0., 0., 0.],\n",
              "         [0., 0., 0., 0., 0.],\n",
              "         [0., 0., 0., 0., 0.],\n",
              "         [0., 0., 0., 0., 0.]]]], dtype=float32)>"
            ]
          },
          "metadata": {},
          "execution_count": 27
        }
      ]
    },
    {
      "cell_type": "code",
      "source": [
        "rank_4_tensor.shape,rank_4_tensor.ndim,tf.size(rank_4_tensor)"
      ],
      "metadata": {
        "colab": {
          "base_uri": "https://localhost:8080/"
        },
        "id": "KYanVdJkTPiU",
        "outputId": "6d36d67e-6250-48b7-f486-e6bc4e49950a"
      },
      "execution_count": 28,
      "outputs": [
        {
          "output_type": "execute_result",
          "data": {
            "text/plain": [
              "(TensorShape([2, 3, 4, 5]), 4, <tf.Tensor: shape=(), dtype=int32, numpy=120>)"
            ]
          },
          "metadata": {},
          "execution_count": 28
        }
      ]
    },
    {
      "cell_type": "code",
      "source": [
        "rank_4_tensor.shape[0],rank_4_tensor.shape[-1]# burada 0 yazan ilk boyut olan 2 yi ; -1 ise son boyut olan 5 i verir.\n",
        "#yani ilk axis shape[0] ile 2 yi ; ikinci axis shape[1] ile 3 olurdu"
      ],
      "metadata": {
        "colab": {
          "base_uri": "https://localhost:8080/"
        },
        "id": "T6UcR0JaWtXt",
        "outputId": "cff72233-5257-48ec-bded-904f63e13c40"
      },
      "execution_count": 29,
      "outputs": [
        {
          "output_type": "execute_result",
          "data": {
            "text/plain": [
              "(2, 5)"
            ]
          },
          "metadata": {},
          "execution_count": 29
        }
      ]
    },
    {
      "cell_type": "code",
      "source": [
        "#size öğrenme ve sayısal olarak alma\n",
        "tf.size(rank_4_tensor)"
      ],
      "metadata": {
        "colab": {
          "base_uri": "https://localhost:8080/"
        },
        "id": "tMyFOE1SXnRa",
        "outputId": "a4c3d377-c9d4-4352-db18-377c88a40cbd"
      },
      "execution_count": 30,
      "outputs": [
        {
          "output_type": "execute_result",
          "data": {
            "text/plain": [
              "<tf.Tensor: shape=(), dtype=int32, numpy=120>"
            ]
          },
          "metadata": {},
          "execution_count": 30
        }
      ]
    },
    {
      "cell_type": "code",
      "source": [
        "tf.size(rank_4_tensor).numpy()"
      ],
      "metadata": {
        "colab": {
          "base_uri": "https://localhost:8080/"
        },
        "id": "pd4h6Gi0Xtvi",
        "outputId": "f04bb46a-e7b4-4301-be19-cd034b2d2536"
      },
      "execution_count": 31,
      "outputs": [
        {
          "output_type": "execute_result",
          "data": {
            "text/plain": [
              "120"
            ]
          },
          "metadata": {},
          "execution_count": 31
        }
      ]
    },
    {
      "cell_type": "markdown",
      "source": [
        "## Tensorlar indexlenebilirler aynı listeler gibi"
      ],
      "metadata": {
        "id": "vFwMNeSlYAsn"
      }
    },
    {
      "cell_type": "code",
      "source": [
        "#her boyuttaki ilk iki elemanı almak\n",
        "#önce bir liste örneği\n",
        "some_list=[1,2,3,4,5]\n",
        "some_list[:2]"
      ],
      "metadata": {
        "colab": {
          "base_uri": "https://localhost:8080/"
        },
        "id": "wXrcZTy7YF-l",
        "outputId": "27ef0a65-ec3d-4425-c797-3576461518eb"
      },
      "execution_count": 32,
      "outputs": [
        {
          "output_type": "execute_result",
          "data": {
            "text/plain": [
              "[1, 2]"
            ]
          },
          "metadata": {},
          "execution_count": 32
        }
      ]
    },
    {
      "cell_type": "code",
      "source": [
        "#şimdi tensor örneği\n",
        "rank_4_tensor[:2,:2,:2,:2] #şeklinde yapılır her boyut için sırasıyla kaç tanesini almak istediğimizi belirtiriz"
      ],
      "metadata": {
        "colab": {
          "base_uri": "https://localhost:8080/"
        },
        "id": "GHWQRwARYpLA",
        "outputId": "17ab0743-30bb-4a1d-db0a-416036fd646c"
      },
      "execution_count": 33,
      "outputs": [
        {
          "output_type": "execute_result",
          "data": {
            "text/plain": [
              "<tf.Tensor: shape=(2, 2, 2, 2), dtype=float32, numpy=\n",
              "array([[[[0., 0.],\n",
              "         [0., 0.]],\n",
              "\n",
              "        [[0., 0.],\n",
              "         [0., 0.]]],\n",
              "\n",
              "\n",
              "       [[[0., 0.],\n",
              "         [0., 0.]],\n",
              "\n",
              "        [[0., 0.],\n",
              "         [0., 0.]]]], dtype=float32)>"
            ]
          },
          "metadata": {},
          "execution_count": 33
        }
      ]
    },
    {
      "cell_type": "code",
      "source": [
        "# tüm boyutlardan 1 tane alıp son boyutu numara yazmadığımız için tamamını aldı\n",
        "# bu şununla da eşdeğerdir rank_4_tensor[:1,:1,:1] yani yazmasakta olur yine aynı\n",
        "rank_4_tensor[:1,:1,:1,:],rank_4_tensor[:1,:1,:1]"
      ],
      "metadata": {
        "colab": {
          "base_uri": "https://localhost:8080/"
        },
        "id": "2ouMPbm5aFq_",
        "outputId": "08dfd6f7-4449-4396-e2e0-ed8c98bcd93c"
      },
      "execution_count": 34,
      "outputs": [
        {
          "output_type": "execute_result",
          "data": {
            "text/plain": [
              "(<tf.Tensor: shape=(1, 1, 1, 5), dtype=float32, numpy=array([[[[0., 0., 0., 0., 0.]]]], dtype=float32)>,\n",
              " <tf.Tensor: shape=(1, 1, 1, 5), dtype=float32, numpy=array([[[[0., 0., 0., 0., 0.]]]], dtype=float32)>)"
            ]
          },
          "metadata": {},
          "execution_count": 34
        }
      ]
    },
    {
      "cell_type": "code",
      "source": [
        "#bir tensor için boyut değişimi yapmak azaltmak ya da arttırmak\n",
        "#rank 2 yani 2 boyutlu bir tensor oluşturalım\n",
        "rank_2_tensor=tf.zeros(shape=(3,5))\n",
        "rank_2_tensor.shape,rank_2_tensor.ndim"
      ],
      "metadata": {
        "colab": {
          "base_uri": "https://localhost:8080/"
        },
        "id": "VOHo-jo4eIy6",
        "outputId": "8627750c-2109-4d19-a18f-ee0445f652af"
      },
      "execution_count": 35,
      "outputs": [
        {
          "output_type": "execute_result",
          "data": {
            "text/plain": [
              "(TensorShape([3, 5]), 2)"
            ]
          },
          "metadata": {},
          "execution_count": 35
        }
      ]
    },
    {
      "cell_type": "code",
      "source": [
        "#rank2 bir tesnor a bir boyut daha ekleme yani dimension sayısını arttırma\n",
        "rank_2_another_tensor=tf.constant([[2,4],[7,5]])\n",
        "rank_3_tesnor=rank_2_another_tensor[...,tf.newaxis]#axis in boyutlar olduğundan bahsetmiştik burada\n",
        "rank_3_tesnor                                      #(2,2) olan tensor için bir boyut eklendi ve (2,2,1) olmuş oldu"
      ],
      "metadata": {
        "id": "r3mJySKgeJLr",
        "colab": {
          "base_uri": "https://localhost:8080/"
        },
        "outputId": "a75b398b-d68a-41cd-9915-9a9bb2590ea3"
      },
      "execution_count": 36,
      "outputs": [
        {
          "output_type": "execute_result",
          "data": {
            "text/plain": [
              "<tf.Tensor: shape=(2, 2, 1), dtype=int32, numpy=\n",
              "array([[[2],\n",
              "        [4]],\n",
              "\n",
              "       [[7],\n",
              "        [5]]], dtype=int32)>"
            ]
          },
          "metadata": {},
          "execution_count": 36
        }
      ]
    },
    {
      "cell_type": "code",
      "source": [
        "rank_3_antoher_tensor=rank_2_another_tensor[tf.newaxis,...]\n",
        "rank_3_antoher_tensor #yukarıdakinin aksine burada da ilk kısma boyut eklendi axisi nereye ekleyeceğimizi seçebiliyoruz"
      ],
      "metadata": {
        "colab": {
          "base_uri": "https://localhost:8080/"
        },
        "id": "NwFJLj9ZdeP2",
        "outputId": "de19dc11-d59b-4e9f-d896-ffd2a3098285"
      },
      "execution_count": 37,
      "outputs": [
        {
          "output_type": "execute_result",
          "data": {
            "text/plain": [
              "<tf.Tensor: shape=(1, 2, 2), dtype=int32, numpy=\n",
              "array([[[2, 4],\n",
              "        [7, 5]]], dtype=int32)>"
            ]
          },
          "metadata": {},
          "execution_count": 37
        }
      ]
    },
    {
      "cell_type": "code",
      "source": [
        "#ya da farklı bir gösterim veya kullanım olarak şu uygulanabilir\n",
        "rank_3_another_tensor_2=rank_2_another_tensor[:,tf.newaxis,:] # önceki örneklerde olduğu gibi : kullanabiliriz\n",
        "rank_3_another_tensor_2                                       # bu şekilde aksisin nereye ekleneceğini belirtebiliyoruz \n",
        "                                                              # ortaya ekleyebildiğimiz gibi"
      ],
      "metadata": {
        "colab": {
          "base_uri": "https://localhost:8080/"
        },
        "id": "iPMWQlYbeBM1",
        "outputId": "53b4fc5d-7cae-4c97-b86a-337a0b5b57e7"
      },
      "execution_count": 38,
      "outputs": [
        {
          "output_type": "execute_result",
          "data": {
            "text/plain": [
              "<tf.Tensor: shape=(2, 1, 2), dtype=int32, numpy=\n",
              "array([[[2, 4]],\n",
              "\n",
              "       [[7, 5]]], dtype=int32)>"
            ]
          },
          "metadata": {},
          "execution_count": 38
        }
      ]
    },
    {
      "cell_type": "code",
      "source": [
        "#tf.newaxis e alternatif olarak tf.epand_dims() kullanılabilir \n",
        "tf.expand_dims(rank_2_another_tensor,axis=-1)# -1'in anlamı son axisden sonra bir aksis ekle sona ekle gibi\n",
        "                                             # burada 0 1 veya boyut sayımıza kadar değerler vererek araya da ekleme yapabilir ve genişletebiliriz                                            "
      ],
      "metadata": {
        "colab": {
          "base_uri": "https://localhost:8080/"
        },
        "id": "AAMw6NuLep5k",
        "outputId": "5c74039f-724b-4b25-a715-da91755daa0f"
      },
      "execution_count": 39,
      "outputs": [
        {
          "output_type": "execute_result",
          "data": {
            "text/plain": [
              "<tf.Tensor: shape=(2, 2, 1), dtype=int32, numpy=\n",
              "array([[[2],\n",
              "        [4]],\n",
              "\n",
              "       [[7],\n",
              "        [5]]], dtype=int32)>"
            ]
          },
          "metadata": {},
          "execution_count": 39
        }
      ]
    },
    {
      "cell_type": "markdown",
      "source": [
        "# Tensor Operasyonları tensoru manipule etmek yönetmek\n",
        "\"+\" , \"-\" , \"*\" , \"/\""
      ],
      "metadata": {
        "id": "JIhcg3y6fuaC"
      }
    },
    {
      "cell_type": "code",
      "source": [
        "tensor=tf.constant([[2,5],[3,7]])\n",
        "tensor+10#burada atama işlemi olmaz tensor değişmez olması için tensor=tensor+10 yapmamız gerekir\n",
        "tensor,tensor+15\n",
        "#bu işlemler diğer temel 3 operasyon için de aynı şekilde işler"
      ],
      "metadata": {
        "colab": {
          "base_uri": "https://localhost:8080/"
        },
        "id": "hZaoqUZKft3f",
        "outputId": "dc4b96d0-1b9a-42e2-e12c-f19825a59a3c"
      },
      "execution_count": 40,
      "outputs": [
        {
          "output_type": "execute_result",
          "data": {
            "text/plain": [
              "(<tf.Tensor: shape=(2, 2), dtype=int32, numpy=\n",
              " array([[2, 5],\n",
              "        [3, 7]], dtype=int32)>, <tf.Tensor: shape=(2, 2), dtype=int32, numpy=\n",
              " array([[17, 20],\n",
              "        [18, 22]], dtype=int32)>)"
            ]
          },
          "metadata": {},
          "execution_count": 40
        }
      ]
    },
    {
      "cell_type": "code",
      "source": [
        "#ayrıca tenserflowun kendi fonksiyonlarını da kullanabiliriz\n",
        "tf.multiply(tensor,2)\n",
        "tensor#görüldüğü gibi yine atama işlemi olmadı\n",
        "#gpu üzerinde büyük tesnor la daha hızlı işlem için kendi fonksiyonlarını kullanmak gerekir"
      ],
      "metadata": {
        "colab": {
          "base_uri": "https://localhost:8080/"
        },
        "id": "bTZzouUmfb_I",
        "outputId": "3e575cf4-5eb9-4c77-b6d3-0bb3ac209008"
      },
      "execution_count": 41,
      "outputs": [
        {
          "output_type": "execute_result",
          "data": {
            "text/plain": [
              "<tf.Tensor: shape=(2, 2), dtype=int32, numpy=\n",
              "array([[2, 5],\n",
              "       [3, 7]], dtype=int32)>"
            ]
          },
          "metadata": {},
          "execution_count": 41
        }
      ]
    },
    {
      "cell_type": "markdown",
      "source": [
        "***Matrix Çarpımı***"
      ],
      "metadata": {
        "id": "ltazzqmIitad"
      }
    },
    {
      "cell_type": "code",
      "source": [
        "print(tensor)\n",
        "tf.matmul(tensor,tensor)"
      ],
      "metadata": {
        "colab": {
          "base_uri": "https://localhost:8080/"
        },
        "id": "4E70IMGgivYa",
        "outputId": "5fde56ad-0613-4547-ce32-eeb8bd251616"
      },
      "execution_count": 42,
      "outputs": [
        {
          "output_type": "stream",
          "name": "stdout",
          "text": [
            "tf.Tensor(\n",
            "[[2 5]\n",
            " [3 7]], shape=(2, 2), dtype=int32)\n"
          ]
        },
        {
          "output_type": "execute_result",
          "data": {
            "text/plain": [
              "<tf.Tensor: shape=(2, 2), dtype=int32, numpy=\n",
              "array([[19, 45],\n",
              "       [27, 64]], dtype=int32)>"
            ]
          },
          "metadata": {},
          "execution_count": 42
        }
      ]
    },
    {
      "cell_type": "code",
      "source": [
        "#python @ operatörü ile matrix çarpımı yapılabilir\n",
        "tensor @ tensor"
      ],
      "metadata": {
        "colab": {
          "base_uri": "https://localhost:8080/"
        },
        "id": "9aDG4B4YmA-C",
        "outputId": "2a500b0d-7111-4e31-8260-cf01edf6ddb2"
      },
      "execution_count": 43,
      "outputs": [
        {
          "output_type": "execute_result",
          "data": {
            "text/plain": [
              "<tf.Tensor: shape=(2, 2), dtype=int32, numpy=\n",
              "array([[19, 45],\n",
              "       [27, 64]], dtype=int32)>"
            ]
          },
          "metadata": {},
          "execution_count": 43
        }
      ]
    },
    {
      "cell_type": "code",
      "source": [
        "#bir tensoru reshape ile yeniden şekillendirebiliriz\n",
        "Y=tf.constant([[1,2,3],[4,5,6]])# şekilde shape=(2,3) olan bir tensor var\n",
        "Y "
      ],
      "metadata": {
        "colab": {
          "base_uri": "https://localhost:8080/"
        },
        "id": "W8rAjlh6mYKp",
        "outputId": "627cdbca-5433-4729-d097-674aa72244d6"
      },
      "execution_count": 44,
      "outputs": [
        {
          "output_type": "execute_result",
          "data": {
            "text/plain": [
              "<tf.Tensor: shape=(2, 3), dtype=int32, numpy=\n",
              "array([[1, 2, 3],\n",
              "       [4, 5, 6]], dtype=int32)>"
            ]
          },
          "metadata": {},
          "execution_count": 44
        }
      ]
    },
    {
      "cell_type": "markdown",
      "source": [
        "## Reshape yeniden şekillendirme (3,2)->(3,2)"
      ],
      "metadata": {
        "id": "IXNA-_fKooPx"
      }
    },
    {
      "cell_type": "code",
      "source": [
        "tf.reshape(Y,shape=(3,2))#atama işlemi olmadığı için Y değişmedi ama atama ile bu yeni hali alınabilir"
      ],
      "metadata": {
        "colab": {
          "base_uri": "https://localhost:8080/"
        },
        "id": "bdFagSjrn1tb",
        "outputId": "c3442fca-08d5-4b81-fc84-54c02831d348"
      },
      "execution_count": 45,
      "outputs": [
        {
          "output_type": "execute_result",
          "data": {
            "text/plain": [
              "<tf.Tensor: shape=(3, 2), dtype=int32, numpy=\n",
              "array([[1, 2],\n",
              "       [3, 4],\n",
              "       [5, 6]], dtype=int32)>"
            ]
          },
          "metadata": {},
          "execution_count": 45
        }
      ]
    },
    {
      "cell_type": "code",
      "source": [
        "tf.transpose(Y)"
      ],
      "metadata": {
        "colab": {
          "base_uri": "https://localhost:8080/"
        },
        "id": "eNWmrv_LpRCI",
        "outputId": "c86293b7-fe89-4379-8f9c-d75361bacc9b"
      },
      "execution_count": 46,
      "outputs": [
        {
          "output_type": "execute_result",
          "data": {
            "text/plain": [
              "<tf.Tensor: shape=(3, 2), dtype=int32, numpy=\n",
              "array([[1, 4],\n",
              "       [2, 5],\n",
              "       [3, 6]], dtype=int32)>"
            ]
          },
          "metadata": {},
          "execution_count": 46
        }
      ]
    },
    {
      "cell_type": "code",
      "source": [
        "#matrix çarpımı ayrıca dotproduct iç çarpımı olarak da gösterilebilir\n",
        "#tek fark bir tanesinin tranpose olması gerektiğidir örnek gösterim:\n",
        "#tf.tensordot()\n"
      ],
      "metadata": {
        "id": "VdvkpMSqqMd0"
      },
      "execution_count": 47,
      "outputs": []
    },
    {
      "cell_type": "code",
      "source": [
        "D=tf.constant([-7,10])\n",
        "tf.abs(D)#negatif değerlerin mutlak değerini alır"
      ],
      "metadata": {
        "colab": {
          "base_uri": "https://localhost:8080/"
        },
        "id": "lzIeRdHK4phF",
        "outputId": "652dd6d4-2515-484f-b2bf-ade0c442fb47"
      },
      "execution_count": 48,
      "outputs": [
        {
          "output_type": "execute_result",
          "data": {
            "text/plain": [
              "<tf.Tensor: shape=(2,), dtype=int32, numpy=array([ 7, 10], dtype=int32)>"
            ]
          },
          "metadata": {},
          "execution_count": 48
        }
      ]
    },
    {
      "cell_type": "code",
      "source": [
        "E=tf.constant(np.random.randint(0,100,size=50))#random 0 10 arasında 50 elemanlı bir tensor oluşturma\n",
        "E"
      ],
      "metadata": {
        "colab": {
          "base_uri": "https://localhost:8080/"
        },
        "id": "tLw-3SlU4-Nj",
        "outputId": "4105994c-f1ac-4307-ce6c-2f6073b3dbf7"
      },
      "execution_count": 49,
      "outputs": [
        {
          "output_type": "execute_result",
          "data": {
            "text/plain": [
              "<tf.Tensor: shape=(50,), dtype=int64, numpy=\n",
              "array([76, 23, 71, 16, 92, 26, 75, 44, 67, 52, 37, 20, 22, 16, 23, 21, 91,\n",
              "       96, 21, 51, 16, 51, 17, 36, 72, 28, 31, 68, 80, 14, 14,  0, 21, 70,\n",
              "        5, 17, 92,  2, 39, 68, 86, 47, 40, 81, 35, 54, 12, 42, 39, 90])>"
            ]
          },
          "metadata": {},
          "execution_count": 49
        }
      ]
    },
    {
      "cell_type": "code",
      "source": [
        "tf.size(E),E.shape,E.ndim"
      ],
      "metadata": {
        "colab": {
          "base_uri": "https://localhost:8080/"
        },
        "id": "mX7bPhbF5H3l",
        "outputId": "ac8f295c-e7f9-4f2b-9ff3-617164f7495e"
      },
      "execution_count": 50,
      "outputs": [
        {
          "output_type": "execute_result",
          "data": {
            "text/plain": [
              "(<tf.Tensor: shape=(), dtype=int32, numpy=50>, TensorShape([50]), 1)"
            ]
          },
          "metadata": {},
          "execution_count": 50
        }
      ]
    },
    {
      "cell_type": "code",
      "source": [
        "#min max minor sum(toplam) mean(ortalama)\n",
        "tf.reduce_min(E),tf.reduce_max(E),tf.reduce_mean(E),tf.reduce_sum(E)"
      ],
      "metadata": {
        "colab": {
          "base_uri": "https://localhost:8080/"
        },
        "id": "igGHDkj85PUP",
        "outputId": "52e98f28-cab3-4205-c0bf-cdd0fe96271a"
      },
      "execution_count": 51,
      "outputs": [
        {
          "output_type": "execute_result",
          "data": {
            "text/plain": [
              "(<tf.Tensor: shape=(), dtype=int64, numpy=0>,\n",
              " <tf.Tensor: shape=(), dtype=int64, numpy=96>,\n",
              " <tf.Tensor: shape=(), dtype=int64, numpy=44>,\n",
              " <tf.Tensor: shape=(), dtype=int64, numpy=2207>)"
            ]
          },
          "metadata": {},
          "execution_count": 51
        }
      ]
    },
    {
      "cell_type": "code",
      "source": [
        "import tensorflow_probability as tfp#variant fonksiyonu için import edildi\n",
        "tfp.stats.variance(E)#varyans bulma"
      ],
      "metadata": {
        "colab": {
          "base_uri": "https://localhost:8080/"
        },
        "id": "_KArw_OX6EL6",
        "outputId": "6ceccc69-bc8b-402d-d221-2f363da68c13"
      },
      "execution_count": 52,
      "outputs": [
        {
          "output_type": "execute_result",
          "data": {
            "text/plain": [
              "<tf.Tensor: shape=(), dtype=int64, numpy=771>"
            ]
          },
          "metadata": {},
          "execution_count": 52
        }
      ]
    },
    {
      "cell_type": "code",
      "source": [
        "#standart sapma\n",
        "tfp.stats.stddev(tf.cast(E,dtype=tf.float32))"
      ],
      "metadata": {
        "colab": {
          "base_uri": "https://localhost:8080/"
        },
        "id": "JgFRKaWS7Jkj",
        "outputId": "6ab9b509-c040-4f7c-82b1-d781c7c6c446"
      },
      "execution_count": 53,
      "outputs": [
        {
          "output_type": "execute_result",
          "data": {
            "text/plain": [
              "<tf.Tensor: shape=(), dtype=float32, numpy=27.780575>"
            ]
          },
          "metadata": {},
          "execution_count": 53
        }
      ]
    },
    {
      "cell_type": "code",
      "source": [
        "#positional maximum and minimum\n",
        "tf.random.set_seed(42)\n",
        "F=tf.random.uniform(shape=[50])\n",
        "F"
      ],
      "metadata": {
        "colab": {
          "base_uri": "https://localhost:8080/"
        },
        "id": "dGvpqhHMEBEV",
        "outputId": "73fbd51a-01d2-45ac-8641-e1c1b4b2239c"
      },
      "execution_count": 54,
      "outputs": [
        {
          "output_type": "execute_result",
          "data": {
            "text/plain": [
              "<tf.Tensor: shape=(50,), dtype=float32, numpy=\n",
              "array([0.6645621 , 0.44100678, 0.3528825 , 0.46448255, 0.03366041,\n",
              "       0.68467236, 0.74011743, 0.8724445 , 0.22632635, 0.22319686,\n",
              "       0.3103881 , 0.7223358 , 0.13318717, 0.5480639 , 0.5746088 ,\n",
              "       0.8996835 , 0.00946367, 0.5212307 , 0.6345445 , 0.1993283 ,\n",
              "       0.72942245, 0.54583454, 0.10756552, 0.6767061 , 0.6602763 ,\n",
              "       0.33695042, 0.60141766, 0.21062577, 0.8527372 , 0.44062173,\n",
              "       0.9485276 , 0.23752594, 0.81179297, 0.5263394 , 0.494308  ,\n",
              "       0.21612847, 0.8457197 , 0.8718841 , 0.3083862 , 0.6868038 ,\n",
              "       0.23764038, 0.7817228 , 0.9671384 , 0.06870162, 0.79873943,\n",
              "       0.66028714, 0.5871513 , 0.16461694, 0.7381023 , 0.32054043],\n",
              "      dtype=float32)>"
            ]
          },
          "metadata": {},
          "execution_count": 54
        }
      ]
    },
    {
      "cell_type": "code",
      "source": [
        "tf.argmax(F)#burada bize maximum elemanın indexini döner"
      ],
      "metadata": {
        "colab": {
          "base_uri": "https://localhost:8080/"
        },
        "id": "JalN3w-bGpCu",
        "outputId": "049aa7ee-271b-43af-e15f-1e4a54b9fdbd"
      },
      "execution_count": 55,
      "outputs": [
        {
          "output_type": "execute_result",
          "data": {
            "text/plain": [
              "<tf.Tensor: shape=(), dtype=int64, numpy=42>"
            ]
          },
          "metadata": {},
          "execution_count": 55
        }
      ]
    },
    {
      "cell_type": "code",
      "source": [
        "F[tf.argmax(F)]#burada indexden elemana ulaşabiliriz"
      ],
      "metadata": {
        "colab": {
          "base_uri": "https://localhost:8080/"
        },
        "id": "rXtmZMubGuqj",
        "outputId": "f24c9d24-25a7-492e-fdfd-d20b9a1c1c3c"
      },
      "execution_count": 56,
      "outputs": [
        {
          "output_type": "execute_result",
          "data": {
            "text/plain": [
              "<tf.Tensor: shape=(), dtype=float32, numpy=0.9671384>"
            ]
          },
          "metadata": {},
          "execution_count": 56
        }
      ]
    },
    {
      "cell_type": "code",
      "source": [
        "#ayrıca max value şu şekilde de bulunabilir\n",
        "tf.reduce_max(F)"
      ],
      "metadata": {
        "colab": {
          "base_uri": "https://localhost:8080/"
        },
        "id": "sXh8TUNxG45d",
        "outputId": "d18a704c-364a-43e1-d5ce-3e25f60d559c"
      },
      "execution_count": 57,
      "outputs": [
        {
          "output_type": "execute_result",
          "data": {
            "text/plain": [
              "<tf.Tensor: shape=(), dtype=float32, numpy=0.9671384>"
            ]
          },
          "metadata": {},
          "execution_count": 57
        }
      ]
    },
    {
      "cell_type": "code",
      "source": [
        "F[tf.argmax(F)]==tf.reduce_max(F)"
      ],
      "metadata": {
        "colab": {
          "base_uri": "https://localhost:8080/"
        },
        "id": "FkInmu6mHHEJ",
        "outputId": "a53741e2-dfd5-4583-c164-211e9f30b5d1"
      },
      "execution_count": 58,
      "outputs": [
        {
          "output_type": "execute_result",
          "data": {
            "text/plain": [
              "<tf.Tensor: shape=(), dtype=bool, numpy=True>"
            ]
          },
          "metadata": {},
          "execution_count": 58
        }
      ]
    },
    {
      "cell_type": "code",
      "source": [
        "#min bulma\n",
        "tf.argmin(F)"
      ],
      "metadata": {
        "colab": {
          "base_uri": "https://localhost:8080/"
        },
        "id": "Y2laqOJnHixL",
        "outputId": "aa214a31-3056-472b-c949-4de292ff55e9"
      },
      "execution_count": 59,
      "outputs": [
        {
          "output_type": "execute_result",
          "data": {
            "text/plain": [
              "<tf.Tensor: shape=(), dtype=int64, numpy=16>"
            ]
          },
          "metadata": {},
          "execution_count": 59
        }
      ]
    },
    {
      "cell_type": "code",
      "source": [
        "F[tf.argmin(F)]"
      ],
      "metadata": {
        "colab": {
          "base_uri": "https://localhost:8080/"
        },
        "id": "v6kpJMIIHnpH",
        "outputId": "9c9326a0-fa9f-4728-c203-6ea920a71ee5"
      },
      "execution_count": 60,
      "outputs": [
        {
          "output_type": "execute_result",
          "data": {
            "text/plain": [
              "<tf.Tensor: shape=(), dtype=float32, numpy=0.009463668>"
            ]
          },
          "metadata": {},
          "execution_count": 60
        }
      ]
    },
    {
      "cell_type": "markdown",
      "source": [
        "# Squeezing tensor()"
      ],
      "metadata": {
        "id": "DztDahylH8Yd"
      }
    },
    {
      "cell_type": "code",
      "source": [
        "tf.random.set_seed(42)\n",
        "G=tf.constant(tf.random.uniform(shape=[50]),shape=(1,1,1,1,1,50))\n",
        "G"
      ],
      "metadata": {
        "colab": {
          "base_uri": "https://localhost:8080/"
        },
        "id": "7MLLxySfIDV9",
        "outputId": "3d44dc53-a42a-4bcc-85a6-73d0380eb77a"
      },
      "execution_count": 61,
      "outputs": [
        {
          "output_type": "execute_result",
          "data": {
            "text/plain": [
              "<tf.Tensor: shape=(1, 1, 1, 1, 1, 50), dtype=float32, numpy=\n",
              "array([[[[[[0.6645621 , 0.44100678, 0.3528825 , 0.46448255,\n",
              "            0.03366041, 0.68467236, 0.74011743, 0.8724445 ,\n",
              "            0.22632635, 0.22319686, 0.3103881 , 0.7223358 ,\n",
              "            0.13318717, 0.5480639 , 0.5746088 , 0.8996835 ,\n",
              "            0.00946367, 0.5212307 , 0.6345445 , 0.1993283 ,\n",
              "            0.72942245, 0.54583454, 0.10756552, 0.6767061 ,\n",
              "            0.6602763 , 0.33695042, 0.60141766, 0.21062577,\n",
              "            0.8527372 , 0.44062173, 0.9485276 , 0.23752594,\n",
              "            0.81179297, 0.5263394 , 0.494308  , 0.21612847,\n",
              "            0.8457197 , 0.8718841 , 0.3083862 , 0.6868038 ,\n",
              "            0.23764038, 0.7817228 , 0.9671384 , 0.06870162,\n",
              "            0.79873943, 0.66028714, 0.5871513 , 0.16461694,\n",
              "            0.7381023 , 0.32054043]]]]]], dtype=float32)>"
            ]
          },
          "metadata": {},
          "execution_count": 61
        }
      ]
    },
    {
      "cell_type": "code",
      "source": [
        "G_squeeze=tf.squeeze(G)\n",
        "G_squeeze#tüm boyutu 1 olan sayılar sildi"
      ],
      "metadata": {
        "colab": {
          "base_uri": "https://localhost:8080/"
        },
        "id": "DMDgelwUJAFq",
        "outputId": "a8f15572-fe8a-4279-9fc5-1626398aa833"
      },
      "execution_count": 62,
      "outputs": [
        {
          "output_type": "execute_result",
          "data": {
            "text/plain": [
              "<tf.Tensor: shape=(50,), dtype=float32, numpy=\n",
              "array([0.6645621 , 0.44100678, 0.3528825 , 0.46448255, 0.03366041,\n",
              "       0.68467236, 0.74011743, 0.8724445 , 0.22632635, 0.22319686,\n",
              "       0.3103881 , 0.7223358 , 0.13318717, 0.5480639 , 0.5746088 ,\n",
              "       0.8996835 , 0.00946367, 0.5212307 , 0.6345445 , 0.1993283 ,\n",
              "       0.72942245, 0.54583454, 0.10756552, 0.6767061 , 0.6602763 ,\n",
              "       0.33695042, 0.60141766, 0.21062577, 0.8527372 , 0.44062173,\n",
              "       0.9485276 , 0.23752594, 0.81179297, 0.5263394 , 0.494308  ,\n",
              "       0.21612847, 0.8457197 , 0.8718841 , 0.3083862 , 0.6868038 ,\n",
              "       0.23764038, 0.7817228 , 0.9671384 , 0.06870162, 0.79873943,\n",
              "       0.66028714, 0.5871513 , 0.16461694, 0.7381023 , 0.32054043],\n",
              "      dtype=float32)>"
            ]
          },
          "metadata": {},
          "execution_count": 62
        }
      ]
    },
    {
      "cell_type": "markdown",
      "source": [
        "# one hot encoding tensor"
      ],
      "metadata": {
        "id": "ENQxdYgRLecB"
      }
    },
    {
      "cell_type": "code",
      "source": [
        "some_list=[0,1,2,3]#red green blue yellow gibi "
      ],
      "metadata": {
        "id": "k28xCv0KLdQr"
      },
      "execution_count": 63,
      "outputs": []
    },
    {
      "cell_type": "code",
      "source": [
        "tf.one_hot(some_list,depth=4)#dept eleman sayısı yani 4x4 matrix oluşacak"
      ],
      "metadata": {
        "colab": {
          "base_uri": "https://localhost:8080/"
        },
        "id": "XuzOCzCvLuK6",
        "outputId": "a98080d9-481c-4221-f29c-85f382ae1868"
      },
      "execution_count": 64,
      "outputs": [
        {
          "output_type": "execute_result",
          "data": {
            "text/plain": [
              "<tf.Tensor: shape=(4, 4), dtype=float32, numpy=\n",
              "array([[1., 0., 0., 0.],\n",
              "       [0., 1., 0., 0.],\n",
              "       [0., 0., 1., 0.],\n",
              "       [0., 0., 0., 1.]], dtype=float32)>"
            ]
          },
          "metadata": {},
          "execution_count": 64
        }
      ]
    },
    {
      "cell_type": "code",
      "source": [
        "#one hot da 1 veya 0 yerine kendi değerlerimizi yazabiliriz\n",
        "tf.one_hot(some_list,depth=4,on_value=\"1 yerine olacak deger\",off_value=\"0 yerine olacak deger\")#işin eğlencesi"
      ],
      "metadata": {
        "colab": {
          "base_uri": "https://localhost:8080/"
        },
        "id": "uC3wc5yecbTq",
        "outputId": "f53456fb-1760-40a8-f62d-ef0dc3a975d9"
      },
      "execution_count": 65,
      "outputs": [
        {
          "output_type": "execute_result",
          "data": {
            "text/plain": [
              "<tf.Tensor: shape=(4, 4), dtype=string, numpy=\n",
              "array([[b'1 yerine olacak deger', b'0 yerine olacak deger',\n",
              "        b'0 yerine olacak deger', b'0 yerine olacak deger'],\n",
              "       [b'0 yerine olacak deger', b'1 yerine olacak deger',\n",
              "        b'0 yerine olacak deger', b'0 yerine olacak deger'],\n",
              "       [b'0 yerine olacak deger', b'0 yerine olacak deger',\n",
              "        b'1 yerine olacak deger', b'0 yerine olacak deger'],\n",
              "       [b'0 yerine olacak deger', b'0 yerine olacak deger',\n",
              "        b'0 yerine olacak deger', b'1 yerine olacak deger']], dtype=object)>"
            ]
          },
          "metadata": {},
          "execution_count": 65
        }
      ]
    },
    {
      "cell_type": "markdown",
      "source": [
        "### Kare,karekök ve logaritma"
      ],
      "metadata": {
        "id": "WgldFRCTdZhd"
      }
    },
    {
      "cell_type": "code",
      "source": [
        "H=tf.range(1,10)\n",
        "H"
      ],
      "metadata": {
        "colab": {
          "base_uri": "https://localhost:8080/"
        },
        "id": "WIAcqqiadYk3",
        "outputId": "ca0e9010-6271-4b2f-925f-bf28e5a61714"
      },
      "execution_count": 66,
      "outputs": [
        {
          "output_type": "execute_result",
          "data": {
            "text/plain": [
              "<tf.Tensor: shape=(9,), dtype=int32, numpy=array([1, 2, 3, 4, 5, 6, 7, 8, 9], dtype=int32)>"
            ]
          },
          "metadata": {},
          "execution_count": 66
        }
      ]
    },
    {
      "cell_type": "code",
      "source": [
        "tf.square(H)"
      ],
      "metadata": {
        "colab": {
          "base_uri": "https://localhost:8080/"
        },
        "id": "GGl61O2edhQ9",
        "outputId": "fb786ba5-0ed6-4ea8-c8d6-2e0406cf6253"
      },
      "execution_count": 67,
      "outputs": [
        {
          "output_type": "execute_result",
          "data": {
            "text/plain": [
              "<tf.Tensor: shape=(9,), dtype=int32, numpy=array([ 1,  4,  9, 16, 25, 36, 49, 64, 81], dtype=int32)>"
            ]
          },
          "metadata": {},
          "execution_count": 67
        }
      ]
    },
    {
      "cell_type": "code",
      "source": [
        "tf.sqrt(tf.cast(H,dtype=tf.float16))#metot float gerektiriyor int ile çalışmıyor"
      ],
      "metadata": {
        "colab": {
          "base_uri": "https://localhost:8080/"
        },
        "id": "3ldL9umRdsMI",
        "outputId": "93978184-9999-4cc6-c355-b9335765c154"
      },
      "execution_count": 68,
      "outputs": [
        {
          "output_type": "execute_result",
          "data": {
            "text/plain": [
              "<tf.Tensor: shape=(9,), dtype=float16, numpy=\n",
              "array([1.   , 1.414, 1.732, 2.   , 2.236, 2.45 , 2.646, 2.828, 3.   ],\n",
              "      dtype=float16)>"
            ]
          },
          "metadata": {},
          "execution_count": 68
        }
      ]
    },
    {
      "cell_type": "markdown",
      "source": [
        "# NumPy and Tensor"
      ],
      "metadata": {
        "id": "hciVlVKLzmDk"
      }
    },
    {
      "cell_type": "code",
      "source": [
        "#numpy ve tensor ilişkilidir numpy array iile tensor oluşturulabilir\n",
        "J=tf.constant(np.array([2.,3.,4.]))\n",
        "J"
      ],
      "metadata": {
        "colab": {
          "base_uri": "https://localhost:8080/"
        },
        "id": "fSrEx7MTzQDc",
        "outputId": "26fdcfc4-7534-41fa-f985-b37436c908ad"
      },
      "execution_count": 69,
      "outputs": [
        {
          "output_type": "execute_result",
          "data": {
            "text/plain": [
              "<tf.Tensor: shape=(3,), dtype=float64, numpy=array([2., 3., 4.])>"
            ]
          },
          "metadata": {},
          "execution_count": 69
        }
      ]
    },
    {
      "cell_type": "code",
      "source": [
        " #tesnoru np.array dönüştürme\n",
        "np.array(J), type(np.array(J)) "
      ],
      "metadata": {
        "id": "p_roNItNz1TU",
        "colab": {
          "base_uri": "https://localhost:8080/"
        },
        "outputId": "1379e58b-8b3c-4db9-925e-e7c12a559645"
      },
      "execution_count": 74,
      "outputs": [
        {
          "output_type": "execute_result",
          "data": {
            "text/plain": [
              "(array([2., 3., 4.]), numpy.ndarray)"
            ]
          },
          "metadata": {},
          "execution_count": 74
        }
      ]
    },
    {
      "cell_type": "code",
      "source": [
        "J.numpy(),type(J.numpy())"
      ],
      "metadata": {
        "colab": {
          "base_uri": "https://localhost:8080/"
        },
        "id": "EJiWoJJWhIZ4",
        "outputId": "a8e7c250-f021-4450-dbaa-832bbcc02316"
      },
      "execution_count": 77,
      "outputs": [
        {
          "output_type": "execute_result",
          "data": {
            "text/plain": [
              "(array([2., 3., 4.]), numpy.ndarray)"
            ]
          },
          "metadata": {},
          "execution_count": 77
        }
      ]
    },
    {
      "cell_type": "code",
      "source": [
        "numpy_J=tf.constant(np.array([3.,5.,10.]))\n",
        "tensor_J=tf.constant([3.,5.,10.] )"
      ],
      "metadata": {
        "id": "YQ9UIyPNhWBY"
      },
      "execution_count": 79,
      "outputs": []
    },
    {
      "cell_type": "code",
      "source": [
        "numpy_J.dtype,tensor_J.dtype#farklı tiptelerde float64 float32 gibi  "
      ],
      "metadata": {
        "colab": {
          "base_uri": "https://localhost:8080/"
        },
        "id": "l2Ru637ViASL",
        "outputId": "fa042807-d685-4434-c94c-09fd9f7f2f2c"
      },
      "execution_count": 82,
      "outputs": [
        {
          "output_type": "execute_result",
          "data": {
            "text/plain": [
              "(tf.float64, tf.float32)"
            ]
          },
          "metadata": {},
          "execution_count": 82
        }
      ]
    },
    {
      "cell_type": "code",
      "source": [],
      "metadata": {
        "id": "CU4Goz-MiLs0"
      },
      "execution_count": null,
      "outputs": []
    }
  ]
}