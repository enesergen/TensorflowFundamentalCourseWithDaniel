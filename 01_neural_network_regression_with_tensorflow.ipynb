{
  "nbformat": 4,
  "nbformat_minor": 0,
  "metadata": {
    "colab": {
      "provenance": [],
      "authorship_tag": "ABX9TyM0Ze+5rGeNrFGBaIRK+wP9",
      "include_colab_link": true
    },
    "kernelspec": {
      "name": "python3",
      "display_name": "Python 3"
    },
    "language_info": {
      "name": "python"
    }
  },
  "cells": [
    {
      "cell_type": "markdown",
      "metadata": {
        "id": "view-in-github",
        "colab_type": "text"
      },
      "source": [
        "<a href=\"https://colab.research.google.com/github/enesergen/TensorflowFundamentalCourseWithDaniel/blob/main/01_neural_network_regression_with_tensorflow.ipynb\" target=\"_parent\"><img src=\"https://colab.research.google.com/assets/colab-badge.svg\" alt=\"Open In Colab\"/></a>"
      ]
    },
    {
      "cell_type": "code",
      "execution_count": 1,
      "metadata": {
        "colab": {
          "base_uri": "https://localhost:8080/"
        },
        "id": "ZRf4Bso5pa8F",
        "outputId": "d1bc9286-d84a-4d26-c23b-2af93db8ac91"
      },
      "outputs": [
        {
          "output_type": "stream",
          "name": "stdout",
          "text": [
            "2.9.2\n"
          ]
        }
      ],
      "source": [
        "import tensorflow as tf\n",
        "print(tf.__version__)"
      ]
    },
    {
      "cell_type": "markdown",
      "source": [
        "# Veri görüntüleme ve fit etme"
      ],
      "metadata": {
        "id": "3g_Yg4nqqyj8"
      }
    },
    {
      "cell_type": "code",
      "source": [
        "import numpy as np\n",
        "import matplotlib.pyplot as plt\n",
        "\n",
        "#create future\n",
        "X=np.array([-7.0,-3.0,-1.0,0.0,3.0])\n",
        "#create label\n",
        "y=np.array([3.,7.,9.,10.,13.])\n",
        "#görselleştirme\n",
        "plt.scatter(X,y)"
      ],
      "metadata": {
        "colab": {
          "base_uri": "https://localhost:8080/",
          "height": 282
        },
        "id": "SI-WzIroqq3l",
        "outputId": "d2b83e55-e25a-4753-987c-95b2267f915a"
      },
      "execution_count": 7,
      "outputs": [
        {
          "output_type": "execute_result",
          "data": {
            "text/plain": [
              "<matplotlib.collections.PathCollection at 0x7f2bf8b4ba00>"
            ]
          },
          "metadata": {},
          "execution_count": 7
        },
        {
          "output_type": "display_data",
          "data": {
            "text/plain": [
              "<Figure size 432x288 with 1 Axes>"
            ],
            "image/png": "[encoded data removed]"
          },
          "metadata": {
            "needs_background": "light"
          }
        }
      ]
    },
    {
      "cell_type": "code",
      "source": [
        "y==X+10#x ve y arasındaki ilişki"
      ],
      "metadata": {
        "colab": {
          "base_uri": "https://localhost:8080/"
        },
        "id": "8rrAW9OJsV9w",
        "outputId": "8ce9b4c5-5008-47cb-c486-95d03ea74002"
      },
      "execution_count": 8,
      "outputs": [
        {
          "output_type": "execute_result",
          "data": {
            "text/plain": [
              "array([ True,  True,  True,  True,  True])"
            ]
          },
          "metadata": {},
          "execution_count": 8
        }
      ]
    },
    {
      "cell_type": "markdown",
      "source": [
        "# Input ve Output Shapes"
      ],
      "metadata": {
        "id": "mSx_QlZSsirn"
      }
    },
    {
      "cell_type": "code",
      "source": [
        "#house price prediction problem için bir tensor oluşturalım\n",
        "house_info=tf.constant([\"bedroom\",\"bathroom\",\"garage\"])\n",
        "house_price=tf.constant([939700])\n",
        "house_info,house_price"
      ],
      "metadata": {
        "colab": {
          "base_uri": "https://localhost:8080/"
        },
        "id": "hLvNNXaBsfLR",
        "outputId": "a5fa466a-f707-4f3a-f441-b38c8997b285"
      },
      "execution_count": 9,
      "outputs": [
        {
          "output_type": "execute_result",
          "data": {
            "text/plain": [
              "(<tf.Tensor: shape=(3,), dtype=string, numpy=array([b'bedroom', b'bathroom', b'garage'], dtype=object)>,\n",
              " <tf.Tensor: shape=(1,), dtype=int32, numpy=array([939700], dtype=int32)>)"
            ]
          },
          "metadata": {},
          "execution_count": 9
        }
      ]
    },
    {
      "cell_type": "code",
      "source": [
        "#Numpy array leri tensor a dönüştürme\n",
        "X=tf.constant(X)\n",
        "y=tf.constant(y)\n",
        "X,y"
      ],
      "metadata": {
        "colab": {
          "base_uri": "https://localhost:8080/"
        },
        "id": "ZHluMcNLuH6A",
        "outputId": "8941df36-4955-4655-9722-974ce50df9ea"
      },
      "execution_count": 10,
      "outputs": [
        {
          "output_type": "execute_result",
          "data": {
            "text/plain": [
              "(<tf.Tensor: shape=(5,), dtype=float64, numpy=array([-7., -3., -1.,  0.,  3.])>,\n",
              " <tf.Tensor: shape=(5,), dtype=float64, numpy=array([ 3.,  7.,  9., 10., 13.])>)"
            ]
          },
          "metadata": {},
          "execution_count": 10
        }
      ]
    },
    {
      "cell_type": "markdown",
      "source": [
        "# Tensorflow ile modelleme stepleri\n",
        "1. Model oluşturma - input , output  , hidden layerleri tanımlama\n",
        "2. Compile the model -loss function ve optimizer tanımlama\n",
        "3. Fitting the model -\n",
        "\n"
      ],
      "metadata": {
        "id": "xZ3bTlCIurOU"
      }
    },
    {
      "cell_type": "code",
      "source": [],
      "metadata": {
        "id": "lqi_Jg7SvOqA"
      },
      "execution_count": null,
      "outputs": []
    },
    {
      "cell_type": "code",
      "source": [],
      "metadata": {
        "id": "0kSQNDMvut4i"
      },
      "execution_count": null,
      "outputs": []
    }
  ]
}