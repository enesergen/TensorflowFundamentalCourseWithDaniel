{
  "nbformat": 4,
  "nbformat_minor": 0,
  "metadata": {
    "colab": {
      "provenance": [],
      "authorship_tag": "ABX9TyNeqbxuBmR3/mCaZMkoqvaH",
      "include_colab_link": true
    },
    "kernelspec": {
      "name": "python3",
      "display_name": "Python 3"
    },
    "language_info": {
      "name": "python"
    }
  },
  "cells": [
    {
      "cell_type": "markdown",
      "metadata": {
        "id": "view-in-github",
        "colab_type": "text"
      },
      "source": [
        "<a href=\"https://colab.research.google.com/github/enesergen/TensorflowFundamentalCourseWithDaniel/blob/main/00_tensorflow_fundamentals.ipynb\" target=\"_parent\"><img src=\"https://colab.research.google.com/assets/colab-badge.svg\" alt=\"Open In Colab\"/></a>"
      ]
    },
    {
      "cell_type": "code",
      "execution_count": 1,
      "metadata": {
        "colab": {
          "base_uri": "https://localhost:8080/"
        },
        "id": "kBPHbFWqsAnp",
        "outputId": "f25632bc-2f80-4bb2-c1d0-858f6f6f7e8e"
      },
      "outputs": [
        {
          "output_type": "stream",
          "name": "stdout",
          "text": [
            "2.9.2\n"
          ]
        }
      ],
      "source": [
        "import tensorflow as tf\n",
        "print(tf.__version__)"
      ]
    },
    {
      "cell_type": "code",
      "source": [
        "#tf.constant  ile tensor oluşturma\n",
        "scaler=tf.constant(6)\n",
        "scaler"
      ],
      "metadata": {
        "colab": {
          "base_uri": "https://localhost:8080/"
        },
        "id": "J7Nu0O62t2x6",
        "outputId": "64c98c1a-2300-44a4-e9c1-d99c0a4efce8"
      },
      "execution_count": 2,
      "outputs": [
        {
          "output_type": "execute_result",
          "data": {
            "text/plain": [
              "<tf.Tensor: shape=(), dtype=int32, numpy=6>"
            ]
          },
          "metadata": {},
          "execution_count": 2
        }
      ]
    },
    {
      "cell_type": "code",
      "source": [
        "scaler.ndim#tensorun boyutunu veriri ndim=number of dimension sanırım rank da diebiliriz"
      ],
      "metadata": {
        "colab": {
          "base_uri": "https://localhost:8080/"
        },
        "id": "GIdE5Ehiuuq8",
        "outputId": "bec0c8d7-4e2f-4270-daac-ba27cae833cd"
      },
      "execution_count": 3,
      "outputs": [
        {
          "output_type": "execute_result",
          "data": {
            "text/plain": [
              "0"
            ]
          },
          "metadata": {},
          "execution_count": 3
        }
      ]
    },
    {
      "cell_type": "code",
      "source": [
        "#vector oluşturma\n",
        "vector=tf.constant([12,6])\n",
        "vector"
      ],
      "metadata": {
        "colab": {
          "base_uri": "https://localhost:8080/"
        },
        "id": "bctFAZ5Nu_Nc",
        "outputId": "0b9d0d36-d2cf-4df2-a3a0-ab649d4eb6de"
      },
      "execution_count": 4,
      "outputs": [
        {
          "output_type": "execute_result",
          "data": {
            "text/plain": [
              "<tf.Tensor: shape=(2,), dtype=int32, numpy=array([12,  6], dtype=int32)>"
            ]
          },
          "metadata": {},
          "execution_count": 4
        }
      ]
    },
    {
      "cell_type": "code",
      "source": [
        "vector.ndim"
      ],
      "metadata": {
        "colab": {
          "base_uri": "https://localhost:8080/"
        },
        "id": "Rl6E0HSqvGe7",
        "outputId": "7ad2b946-12f9-49f3-fca5-e814c2e5150c"
      },
      "execution_count": 5,
      "outputs": [
        {
          "output_type": "execute_result",
          "data": {
            "text/plain": [
              "1"
            ]
          },
          "metadata": {},
          "execution_count": 5
        }
      ]
    },
    {
      "cell_type": "code",
      "source": [
        "#matrix oluşturma\n",
        "matrix=tf.constant([[2,6],[3,5]])\n",
        "matrix"
      ],
      "metadata": {
        "colab": {
          "base_uri": "https://localhost:8080/"
        },
        "id": "3wVA2CWyvRKv",
        "outputId": "ab88278c-7e97-4d78-ded8-5ea66b7c1c57"
      },
      "execution_count": 6,
      "outputs": [
        {
          "output_type": "execute_result",
          "data": {
            "text/plain": [
              "<tf.Tensor: shape=(2, 2), dtype=int32, numpy=\n",
              "array([[2, 6],\n",
              "       [3, 5]], dtype=int32)>"
            ]
          },
          "metadata": {},
          "execution_count": 6
        }
      ]
    },
    {
      "cell_type": "code",
      "source": [
        "matrix.ndim"
      ],
      "metadata": {
        "colab": {
          "base_uri": "https://localhost:8080/"
        },
        "id": "lYQGA06KvcnL",
        "outputId": "e4872426-b4a3-49d1-d880-e5825a07432e"
      },
      "execution_count": 7,
      "outputs": [
        {
          "output_type": "execute_result",
          "data": {
            "text/plain": [
              "2"
            ]
          },
          "metadata": {},
          "execution_count": 7
        }
      ]
    },
    {
      "cell_type": "code",
      "source": [
        "#başka bir matrix oluşturma\n",
        "another_matrix=tf.constant([[10.,7.],\n",
        "                            [5.,3.],\n",
        "                            [2.,9.]],dtype=tf.float16)\n",
        "another_matrix"
      ],
      "metadata": {
        "colab": {
          "base_uri": "https://localhost:8080/"
        },
        "id": "ErjzjdvVvzjn",
        "outputId": "8e0a1adc-3a62-4b86-9f5c-7ab93eaa4763"
      },
      "execution_count": 8,
      "outputs": [
        {
          "output_type": "execute_result",
          "data": {
            "text/plain": [
              "<tf.Tensor: shape=(3, 2), dtype=float16, numpy=\n",
              "array([[10.,  7.],\n",
              "       [ 5.,  3.],\n",
              "       [ 2.,  9.]], dtype=float16)>"
            ]
          },
          "metadata": {},
          "execution_count": 8
        }
      ]
    },
    {
      "cell_type": "code",
      "source": [
        "another_matrix.ndim"
      ],
      "metadata": {
        "colab": {
          "base_uri": "https://localhost:8080/"
        },
        "id": "h2Zpd8xxwH4K",
        "outputId": "208fc679-4dba-4df9-b350-3d37c2cc2d6f"
      },
      "execution_count": 9,
      "outputs": [
        {
          "output_type": "execute_result",
          "data": {
            "text/plain": [
              "2"
            ]
          },
          "metadata": {},
          "execution_count": 9
        }
      ]
    },
    {
      "cell_type": "code",
      "source": [
        "tensor=tf.constant([\n",
        "    [\n",
        "        [1,2,3],[4,5,6]],[[7,8,9],[10,11,12]],[[13,14,15],[16,17,18]\n",
        "                                               ]\n",
        "                    ]\n",
        "                   )\n",
        "tensor"
      ],
      "metadata": {
        "colab": {
          "base_uri": "https://localhost:8080/"
        },
        "id": "Go31mbjPxNV-",
        "outputId": "f54a48e2-5ba2-4b84-e4eb-2b936b187934"
      },
      "execution_count": 10,
      "outputs": [
        {
          "output_type": "execute_result",
          "data": {
            "text/plain": [
              "<tf.Tensor: shape=(3, 2, 3), dtype=int32, numpy=\n",
              "array([[[ 1,  2,  3],\n",
              "        [ 4,  5,  6]],\n",
              "\n",
              "       [[ 7,  8,  9],\n",
              "        [10, 11, 12]],\n",
              "\n",
              "       [[13, 14, 15],\n",
              "        [16, 17, 18]]], dtype=int32)>"
            ]
          },
          "metadata": {},
          "execution_count": 10
        }
      ]
    },
    {
      "cell_type": "code",
      "source": [
        "tensor.ndim"
      ],
      "metadata": {
        "colab": {
          "base_uri": "https://localhost:8080/"
        },
        "id": "Bq8RCHooyk8p",
        "outputId": "0ceb20ed-3401-429d-cbfb-a3e3435bb609"
      },
      "execution_count": 11,
      "outputs": [
        {
          "output_type": "execute_result",
          "data": {
            "text/plain": [
              "3"
            ]
          },
          "metadata": {},
          "execution_count": 11
        }
      ]
    },
    {
      "cell_type": "markdown",
      "source": [
        "#Yukarıda ne öğrendik:\n",
        "* Scaler:0 boyutlu. \n",
        "* Vector=1 boyutlu.\n",
        "* matrix=2 boyutlu\n",
        "* tensor=n boyutlu olabilir tamamen oluşturmaya göre boyut sayısını siz belirleyebiliyoruz.\n",
        "\n"
      ],
      "metadata": {
        "id": "JNf46NhKzTZX"
      }
    },
    {
      "cell_type": "code",
      "source": [
        "#tf.variable ile tensor oluşturma\n",
        "changeable_tesnor=tf.Variable([3,4])#değiştirilebilir tensor yani verdiğimiz değerleri değiştirebiliyoruz\n",
        "unchangeable_tesnor=tf.constant([3,4])#constant sabit değerli tensor\n",
        "changeable_tesnor,unchangeable_tesnor"
      ],
      "metadata": {
        "colab": {
          "base_uri": "https://localhost:8080/"
        },
        "id": "87EsOxPMyoD-",
        "outputId": "ef4f6890-66cc-4763-ef27-20b02306a111"
      },
      "execution_count": 12,
      "outputs": [
        {
          "output_type": "execute_result",
          "data": {
            "text/plain": [
              "(<tf.Variable 'Variable:0' shape=(2,) dtype=int32, numpy=array([3, 4], dtype=int32)>,\n",
              " <tf.Tensor: shape=(2,), dtype=int32, numpy=array([3, 4], dtype=int32)>)"
            ]
          },
          "metadata": {},
          "execution_count": 12
        }
      ]
    },
    {
      "cell_type": "code",
      "source": [
        "#değiştirmeyi deneyelim \n",
        "changeable_tesnor[0]"
      ],
      "metadata": {
        "colab": {
          "base_uri": "https://localhost:8080/"
        },
        "id": "d2B2IJ660R9z",
        "outputId": "67687f31-99b9-4e82-862f-ddf74a8feb7c"
      },
      "execution_count": 13,
      "outputs": [
        {
          "output_type": "execute_result",
          "data": {
            "text/plain": [
              "<tf.Tensor: shape=(), dtype=int32, numpy=3>"
            ]
          },
          "metadata": {},
          "execution_count": 13
        }
      ]
    },
    {
      "cell_type": "code",
      "source": [
        "changeable_tesnor[0].assign(22)\n",
        "changeable_tesnor"
      ],
      "metadata": {
        "colab": {
          "base_uri": "https://localhost:8080/"
        },
        "id": "2cT6kfu51det",
        "outputId": "afd055da-9026-4f5b-8380-9579199622c9"
      },
      "execution_count": 14,
      "outputs": [
        {
          "output_type": "execute_result",
          "data": {
            "text/plain": [
              "<tf.Variable 'Variable:0' shape=(2,) dtype=int32, numpy=array([22,  4], dtype=int32)>"
            ]
          },
          "metadata": {},
          "execution_count": 14
        }
      ]
    },
    {
      "cell_type": "markdown",
      "source": [
        "**Eğer ileride değiştirmek zorunda olacağımız bir tensor ile çalışacaksak tf.Variable() ile oluşturmamız gerekiyor aksi halde tf.constant() ile oluşturursak bunu değiştirmek mümkün olmayacaktır.`**"
      ],
      "metadata": {
        "id": "3d2AqN2x26h9"
      }
    },
    {
      "cell_type": "code",
      "source": [
        "#random tensor oluşturma\n",
        "random_tensor1=tf.random.Generator.from_seed(42)\n",
        "random_tensor1=random_tensor1.normal(shape=(3,2))#normal dağılım kullanarak oluşturuyor \n",
        "random_tensor2=tf.random.Generator.from_seed(42)\n",
        "random_tensor2=random_tensor2.normal(shape=(3,2))\n",
        "random_tensor1,random_tensor1,random_tensor1==random_tensor2"
      ],
      "metadata": {
        "colab": {
          "base_uri": "https://localhost:8080/"
        },
        "id": "OTpXl2SF1iAX",
        "outputId": "3124d2ba-2d6f-4537-f27c-0a388d770742"
      },
      "execution_count": 15,
      "outputs": [
        {
          "output_type": "execute_result",
          "data": {
            "text/plain": [
              "(<tf.Tensor: shape=(3, 2), dtype=float32, numpy=\n",
              " array([[-0.7565803 , -0.06854702],\n",
              "        [ 0.07595026, -1.2573844 ],\n",
              "        [-0.23193763, -1.8107855 ]], dtype=float32)>,\n",
              " <tf.Tensor: shape=(3, 2), dtype=float32, numpy=\n",
              " array([[-0.7565803 , -0.06854702],\n",
              "        [ 0.07595026, -1.2573844 ],\n",
              "        [-0.23193763, -1.8107855 ]], dtype=float32)>,\n",
              " <tf.Tensor: shape=(3, 2), dtype=bool, numpy=\n",
              " array([[ True,  True],\n",
              "        [ True,  True],\n",
              "        [ True,  True]])>)"
            ]
          },
          "metadata": {},
          "execution_count": 15
        }
      ]
    },
    {
      "cell_type": "markdown",
      "source": [
        "** Öğrenme algoritmasını daha iyi hale getirmek için verisetmizi shuffle karıştırma işlemi yapmamız gerekiyor örnek olarak 15bin verilik ilk verisetinin ilk 10bin tanesi bisiklet sonraki 5bin tanesi araba olsun burada sistemimiz ilk 10bin taneden sadece bisikteli öğrenir onun için kendisini eğitir bunun önüne geçebilmek için shuffle yani karıştırma işlemi yapmamız gerekir**"
      ],
      "metadata": {
        "id": "H02RhhUx7LPh"
      }
    },
    {
      "cell_type": "code",
      "source": [
        "#tensor için shuffle işlemini yapmak\n",
        "not_shuffled=tf.constant([\n",
        "    [1,2,3],[4,5,6],[7,8,9]\n",
        "])\n",
        "not_shuffled.ndim"
      ],
      "metadata": {
        "colab": {
          "base_uri": "https://localhost:8080/"
        },
        "id": "sRyWtsEw7Kau",
        "outputId": "578dc418-a328-413c-daab-dff8e2590162"
      },
      "execution_count": 16,
      "outputs": [
        {
          "output_type": "execute_result",
          "data": {
            "text/plain": [
              "2"
            ]
          },
          "metadata": {},
          "execution_count": 16
        }
      ]
    },
    {
      "cell_type": "code",
      "source": [
        "not_shuffled"
      ],
      "metadata": {
        "colab": {
          "base_uri": "https://localhost:8080/"
        },
        "id": "SVOP09Mi6gdJ",
        "outputId": "9e790858-12da-4ffa-a20b-327c0cc2eae3"
      },
      "execution_count": 17,
      "outputs": [
        {
          "output_type": "execute_result",
          "data": {
            "text/plain": [
              "<tf.Tensor: shape=(3, 3), dtype=int32, numpy=\n",
              "array([[1, 2, 3],\n",
              "       [4, 5, 6],\n",
              "       [7, 8, 9]], dtype=int32)>"
            ]
          },
          "metadata": {},
          "execution_count": 17
        }
      ]
    },
    {
      "cell_type": "code",
      "source": [
        "tf.random.shuffle(not_shuffled)#random.shuffly first dimension yani (3,3) ün ilk 3 teki boyut üzerinde karışıklık yapar sonraki boyuta karışmaz "
      ],
      "metadata": {
        "colab": {
          "base_uri": "https://localhost:8080/"
        },
        "id": "DIak-x0O8RIq",
        "outputId": "a8926e4f-5d31-4224-9df2-8372988ee602"
      },
      "execution_count": 18,
      "outputs": [
        {
          "output_type": "execute_result",
          "data": {
            "text/plain": [
              "<tf.Tensor: shape=(3, 3), dtype=int32, numpy=\n",
              "array([[7, 8, 9],\n",
              "       [1, 2, 3],\n",
              "       [4, 5, 6]], dtype=int32)>"
            ]
          },
          "metadata": {},
          "execution_count": 18
        }
      ]
    },
    {
      "cell_type": "code",
      "source": [
        "tf.random.shuffle(not_shuffled)#random.shuffly first dimension yani (3,3) ün ilk 3 teki boyut üzerinde karışıklık yapar sonraki boyuta karışmaz "
      ],
      "metadata": {
        "colab": {
          "base_uri": "https://localhost:8080/"
        },
        "id": "jwZDxRHr84Ga",
        "outputId": "3d116ae4-1e7d-4d5a-e1bf-f1a4fb770f83"
      },
      "execution_count": 19,
      "outputs": [
        {
          "output_type": "execute_result",
          "data": {
            "text/plain": [
              "<tf.Tensor: shape=(3, 3), dtype=int32, numpy=\n",
              "array([[7, 8, 9],\n",
              "       [1, 2, 3],\n",
              "       [4, 5, 6]], dtype=int32)>"
            ]
          },
          "metadata": {},
          "execution_count": 19
        }
      ]
    },
    {
      "cell_type": "code",
      "source": [
        "tf.random.shuffle(not_shuffled,seed=42)# seed sayısını verdiğimiz zaman ne kadar tekrar çalıştırsakta karıştırma sonucu hep aynı olacaktır\n",
        "#kodu birden fazlakez çalıştırdım ama sonuç hep aynı sırada çıktı shuffle yaptı ama tekrar tekrar çalıştırdığımda da aynı sonucu elde ettim\n",
        "#ayrıca 2 tür seed vardır bir global bide operation level seed vardır bunlar biri fonksiyon içinde seed= ile diğeri ise tensor.set_seed() şeklinde kullanılılır \n",
        "#bunların farkı sanıyorumki operasyon içindeki sadece o satır için etkili ama global olan bir kere tanımlıyorsunuz ve tüm farklı satırlardaki shuffle için aynı seed değeri kullanılıyor"
      ],
      "metadata": {
        "colab": {
          "base_uri": "https://localhost:8080/"
        },
        "id": "Kg6c0Xd89zcn",
        "outputId": "f29f9309-d361-4f45-d84f-6d5655b3bf0a"
      },
      "execution_count": 20,
      "outputs": [
        {
          "output_type": "execute_result",
          "data": {
            "text/plain": [
              "<tf.Tensor: shape=(3, 3), dtype=int32, numpy=\n",
              "array([[7, 8, 9],\n",
              "       [4, 5, 6],\n",
              "       [1, 2, 3]], dtype=int32)>"
            ]
          },
          "metadata": {},
          "execution_count": 20
        }
      ]
    },
    {
      "cell_type": "code",
      "source": [
        "#other tensors\n",
        "#numpy ones:içinin 1 ile dolu olan tensor oluşturur.\n",
        "tf.ones([7,10])"
      ],
      "metadata": {
        "colab": {
          "base_uri": "https://localhost:8080/"
        },
        "id": "TMLQWlbxPhqU",
        "outputId": "7a84f587-bc0f-44dd-ba2b-11a342d2d489"
      },
      "execution_count": 21,
      "outputs": [
        {
          "output_type": "execute_result",
          "data": {
            "text/plain": [
              "<tf.Tensor: shape=(7, 10), dtype=float32, numpy=\n",
              "array([[1., 1., 1., 1., 1., 1., 1., 1., 1., 1.],\n",
              "       [1., 1., 1., 1., 1., 1., 1., 1., 1., 1.],\n",
              "       [1., 1., 1., 1., 1., 1., 1., 1., 1., 1.],\n",
              "       [1., 1., 1., 1., 1., 1., 1., 1., 1., 1.],\n",
              "       [1., 1., 1., 1., 1., 1., 1., 1., 1., 1.],\n",
              "       [1., 1., 1., 1., 1., 1., 1., 1., 1., 1.],\n",
              "       [1., 1., 1., 1., 1., 1., 1., 1., 1., 1.]], dtype=float32)>"
            ]
          },
          "metadata": {},
          "execution_count": 21
        }
      ]
    },
    {
      "cell_type": "code",
      "source": [
        "tf.zeros([3,4])#hepsi 0 olan bir tensor oluşturur"
      ],
      "metadata": {
        "colab": {
          "base_uri": "https://localhost:8080/"
        },
        "id": "fSqpzvPVQY2u",
        "outputId": "d3236760-b96b-4802-b97e-75d002958f8a"
      },
      "execution_count": 22,
      "outputs": [
        {
          "output_type": "execute_result",
          "data": {
            "text/plain": [
              "<tf.Tensor: shape=(3, 4), dtype=float32, numpy=\n",
              "array([[0., 0., 0., 0.],\n",
              "       [0., 0., 0., 0.],\n",
              "       [0., 0., 0., 0.]], dtype=float32)>"
            ]
          },
          "metadata": {},
          "execution_count": 22
        }
      ]
    },
    {
      "cell_type": "code",
      "source": [
        "tf.zeros(shape=(3,4))#farklı bir gösterimi"
      ],
      "metadata": {
        "colab": {
          "base_uri": "https://localhost:8080/"
        },
        "id": "labuYMhGQbbc",
        "outputId": "9ebf8bbd-7636-432c-d845-61c6e194059c"
      },
      "execution_count": 23,
      "outputs": [
        {
          "output_type": "execute_result",
          "data": {
            "text/plain": [
              "<tf.Tensor: shape=(3, 4), dtype=float32, numpy=\n",
              "array([[0., 0., 0., 0.],\n",
              "       [0., 0., 0., 0.],\n",
              "       [0., 0., 0., 0.]], dtype=float32)>"
            ]
          },
          "metadata": {},
          "execution_count": 23
        }
      ]
    },
    {
      "cell_type": "markdown",
      "source": [
        "# * Numpy  array ile tensor arasındaki en büyük fark; tensorlar GPU üzerinde çalışabilirler bu yüzden çok hızlı matematiksel hesaplamaları yapılabilir."
      ],
      "metadata": {
        "id": "Q8yOwPMGRCO_"
      }
    },
    {
      "cell_type": "code",
      "source": [
        "#ayrıca numpy array leri tensor lara dönüştürebiliriz\n",
        "import numpy as np\n",
        "numpy_A=np.arange(1,25,dtype=np.int32) #numpy array oluşturma 1 ile 20 arasında int32bit tipinde \n",
        "numpy_A"
      ],
      "metadata": {
        "colab": {
          "base_uri": "https://localhost:8080/"
        },
        "id": "SAWYdOTBQyon",
        "outputId": "e341606d-96d8-451f-b79c-b4bf743667da"
      },
      "execution_count": 24,
      "outputs": [
        {
          "output_type": "execute_result",
          "data": {
            "text/plain": [
              "array([ 1,  2,  3,  4,  5,  6,  7,  8,  9, 10, 11, 12, 13, 14, 15, 16, 17,\n",
              "       18, 19, 20, 21, 22, 23, 24], dtype=int32)"
            ]
          },
          "metadata": {},
          "execution_count": 24
        }
      ]
    },
    {
      "cell_type": "code",
      "source": [
        "#numpy array'i tensor a dönüştürme\n",
        "A=tf.constant(numpy_A)\n",
        "A"
      ],
      "metadata": {
        "colab": {
          "base_uri": "https://localhost:8080/"
        },
        "id": "2HdkE11sR3rB",
        "outputId": "d6174c36-7cc9-4eca-85ee-f2618bdf5195"
      },
      "execution_count": 25,
      "outputs": [
        {
          "output_type": "execute_result",
          "data": {
            "text/plain": [
              "<tf.Tensor: shape=(24,), dtype=int32, numpy=\n",
              "array([ 1,  2,  3,  4,  5,  6,  7,  8,  9, 10, 11, 12, 13, 14, 15, 16, 17,\n",
              "       18, 19, 20, 21, 22, 23, 24], dtype=int32)>"
            ]
          },
          "metadata": {},
          "execution_count": 25
        }
      ]
    },
    {
      "cell_type": "code",
      "source": [
        "#ayrıca dönüştürme sırasında shape üzerinde de bir değişklik yapabilriz\n",
        "B=tf.constant(numpy_A,shape=(2,3,4))#burada 2*3*4=24 numpy array deki eleman sayısını karşılamalıdır.\n",
        "B"
      ],
      "metadata": {
        "colab": {
          "base_uri": "https://localhost:8080/"
        },
        "id": "pwadZMooSK5B",
        "outputId": "8191d1d0-a628-4160-fe6b-6455e0cbf937"
      },
      "execution_count": 26,
      "outputs": [
        {
          "output_type": "execute_result",
          "data": {
            "text/plain": [
              "<tf.Tensor: shape=(2, 3, 4), dtype=int32, numpy=\n",
              "array([[[ 1,  2,  3,  4],\n",
              "        [ 5,  6,  7,  8],\n",
              "        [ 9, 10, 11, 12]],\n",
              "\n",
              "       [[13, 14, 15, 16],\n",
              "        [17, 18, 19, 20],\n",
              "        [21, 22, 23, 24]]], dtype=int32)>"
            ]
          },
          "metadata": {},
          "execution_count": 26
        }
      ]
    },
    {
      "cell_type": "markdown",
      "source": [
        "### Tensor hakkında bilgiler\n",
        "* Shape\n",
        "* Rank\n",
        "* Axis or dimension(boyut)\n",
        "* Size"
      ],
      "metadata": {
        "id": "t3scneOOT_8Q"
      }
    },
    {
      "cell_type": "code",
      "source": [
        "#rank 4 olan bir tensor oluşturalım 4 dimension boyutlu demek\n",
        "rank_4_tensor=tf.zeros(shape=(2,3,4,5))\n",
        "rank_4_tensor"
      ],
      "metadata": {
        "colab": {
          "base_uri": "https://localhost:8080/"
        },
        "id": "PN4gEovcT_oM",
        "outputId": "dd93b040-f6ef-40a9-a51f-a9dc83284e11"
      },
      "execution_count": 27,
      "outputs": [
        {
          "output_type": "execute_result",
          "data": {
            "text/plain": [
              "<tf.Tensor: shape=(2, 3, 4, 5), dtype=float32, numpy=\n",
              "array([[[[0., 0., 0., 0., 0.],\n",
              "         [0., 0., 0., 0., 0.],\n",
              "         [0., 0., 0., 0., 0.],\n",
              "         [0., 0., 0., 0., 0.]],\n",
              "\n",
              "        [[0., 0., 0., 0., 0.],\n",
              "         [0., 0., 0., 0., 0.],\n",
              "         [0., 0., 0., 0., 0.],\n",
              "         [0., 0., 0., 0., 0.]],\n",
              "\n",
              "        [[0., 0., 0., 0., 0.],\n",
              "         [0., 0., 0., 0., 0.],\n",
              "         [0., 0., 0., 0., 0.],\n",
              "         [0., 0., 0., 0., 0.]]],\n",
              "\n",
              "\n",
              "       [[[0., 0., 0., 0., 0.],\n",
              "         [0., 0., 0., 0., 0.],\n",
              "         [0., 0., 0., 0., 0.],\n",
              "         [0., 0., 0., 0., 0.]],\n",
              "\n",
              "        [[0., 0., 0., 0., 0.],\n",
              "         [0., 0., 0., 0., 0.],\n",
              "         [0., 0., 0., 0., 0.],\n",
              "         [0., 0., 0., 0., 0.]],\n",
              "\n",
              "        [[0., 0., 0., 0., 0.],\n",
              "         [0., 0., 0., 0., 0.],\n",
              "         [0., 0., 0., 0., 0.],\n",
              "         [0., 0., 0., 0., 0.]]]], dtype=float32)>"
            ]
          },
          "metadata": {},
          "execution_count": 27
        }
      ]
    },
    {
      "cell_type": "code",
      "source": [
        "rank_4_tensor.shape,rank_4_tensor.ndim,tf.size(rank_4_tensor)"
      ],
      "metadata": {
        "colab": {
          "base_uri": "https://localhost:8080/"
        },
        "id": "KYanVdJkTPiU",
        "outputId": "399268b2-cfb2-4f94-be6d-f40364023ca5"
      },
      "execution_count": 28,
      "outputs": [
        {
          "output_type": "execute_result",
          "data": {
            "text/plain": [
              "(TensorShape([2, 3, 4, 5]), 4, <tf.Tensor: shape=(), dtype=int32, numpy=120>)"
            ]
          },
          "metadata": {},
          "execution_count": 28
        }
      ]
    },
    {
      "cell_type": "code",
      "source": [
        "rank_4_tensor.shape[0],rank_4_tensor.shape[-1]# burada 0 yazan ilk boyut olan 2 yi ; -1 ise son boyut olan 5 i verir.\n",
        "#yani ilk axis shape[0] ile 2 yi ; ikinci axis shape[1] ile 3 olurdu"
      ],
      "metadata": {
        "colab": {
          "base_uri": "https://localhost:8080/"
        },
        "id": "T6UcR0JaWtXt",
        "outputId": "15a67740-fb94-44e0-b05f-e609d465c1dd"
      },
      "execution_count": 29,
      "outputs": [
        {
          "output_type": "execute_result",
          "data": {
            "text/plain": [
              "(2, 5)"
            ]
          },
          "metadata": {},
          "execution_count": 29
        }
      ]
    },
    {
      "cell_type": "code",
      "source": [
        "#size öğrenme ve sayısal olarak alma\n",
        "tf.size(rank_4_tensor)"
      ],
      "metadata": {
        "colab": {
          "base_uri": "https://localhost:8080/"
        },
        "id": "tMyFOE1SXnRa",
        "outputId": "d72617fa-ce29-4aa5-af68-257937ca1e7c"
      },
      "execution_count": 30,
      "outputs": [
        {
          "output_type": "execute_result",
          "data": {
            "text/plain": [
              "<tf.Tensor: shape=(), dtype=int32, numpy=120>"
            ]
          },
          "metadata": {},
          "execution_count": 30
        }
      ]
    },
    {
      "cell_type": "code",
      "source": [
        "tf.size(rank_4_tensor).numpy()"
      ],
      "metadata": {
        "colab": {
          "base_uri": "https://localhost:8080/"
        },
        "id": "pd4h6Gi0Xtvi",
        "outputId": "13b19135-6f93-44f0-c20b-820166a6763d"
      },
      "execution_count": 31,
      "outputs": [
        {
          "output_type": "execute_result",
          "data": {
            "text/plain": [
              "120"
            ]
          },
          "metadata": {},
          "execution_count": 31
        }
      ]
    },
    {
      "cell_type": "markdown",
      "source": [
        "## Tensorlar indexlenebilirler aynı listeler gibi"
      ],
      "metadata": {
        "id": "vFwMNeSlYAsn"
      }
    },
    {
      "cell_type": "code",
      "source": [
        "#her boyuttaki ilk iki elemanı almak\n",
        "#önce bir liste örneği\n",
        "some_list=[1,2,3,4,5]\n",
        "some_list[:2]"
      ],
      "metadata": {
        "colab": {
          "base_uri": "https://localhost:8080/"
        },
        "id": "wXrcZTy7YF-l",
        "outputId": "471fed79-af1f-4cbb-b018-90466d779bd1"
      },
      "execution_count": 32,
      "outputs": [
        {
          "output_type": "execute_result",
          "data": {
            "text/plain": [
              "[1, 2]"
            ]
          },
          "metadata": {},
          "execution_count": 32
        }
      ]
    },
    {
      "cell_type": "code",
      "source": [
        "#şimdi tensor örneği\n",
        "rank_4_tensor[:2,:2,:2,:2] #şeklinde yapılır her boyut için sırasıyla kaç tanesini almak istediğimizi belirtiriz"
      ],
      "metadata": {
        "colab": {
          "base_uri": "https://localhost:8080/"
        },
        "id": "GHWQRwARYpLA",
        "outputId": "6d72922f-ac0a-41c6-f67a-e34a83385b3a"
      },
      "execution_count": 33,
      "outputs": [
        {
          "output_type": "execute_result",
          "data": {
            "text/plain": [
              "<tf.Tensor: shape=(2, 2, 2, 2), dtype=float32, numpy=\n",
              "array([[[[0., 0.],\n",
              "         [0., 0.]],\n",
              "\n",
              "        [[0., 0.],\n",
              "         [0., 0.]]],\n",
              "\n",
              "\n",
              "       [[[0., 0.],\n",
              "         [0., 0.]],\n",
              "\n",
              "        [[0., 0.],\n",
              "         [0., 0.]]]], dtype=float32)>"
            ]
          },
          "metadata": {},
          "execution_count": 33
        }
      ]
    },
    {
      "cell_type": "code",
      "source": [
        "# tüm boyutlardan 1 tane alıp son boyutu numara yazmadığımız için tamamını aldı\n",
        "# bu şununla da eşdeğerdir rank_4_tensor[:1,:1,:1] yani yazmasakta olur yine aynı\n",
        "rank_4_tensor[:1,:1,:1,:],rank_4_tensor[:1,:1,:1]"
      ],
      "metadata": {
        "colab": {
          "base_uri": "https://localhost:8080/"
        },
        "id": "2ouMPbm5aFq_",
        "outputId": "59d5f813-ee91-47c1-9cb0-416d49e19505"
      },
      "execution_count": 34,
      "outputs": [
        {
          "output_type": "execute_result",
          "data": {
            "text/plain": [
              "(<tf.Tensor: shape=(1, 1, 1, 5), dtype=float32, numpy=array([[[[0., 0., 0., 0., 0.]]]], dtype=float32)>,\n",
              " <tf.Tensor: shape=(1, 1, 1, 5), dtype=float32, numpy=array([[[[0., 0., 0., 0., 0.]]]], dtype=float32)>)"
            ]
          },
          "metadata": {},
          "execution_count": 34
        }
      ]
    },
    {
      "cell_type": "code",
      "source": [
        "#bir tensor için boyut değişimi yapmak azaltmak ya da arttırmak\n",
        "#rank 2 yani 2 boyutlu bir tensor oluşturalım\n",
        "rank_2_tensor=tf.zeros(shape=(3,5))\n",
        "rank_2_tensor.shape,rank_2_tensor.ndim"
      ],
      "metadata": {
        "colab": {
          "base_uri": "https://localhost:8080/"
        },
        "id": "VOHo-jo4eIy6",
        "outputId": "9ec9019b-4e7f-4e10-a9eb-86c7ca0862cf"
      },
      "execution_count": 35,
      "outputs": [
        {
          "output_type": "execute_result",
          "data": {
            "text/plain": [
              "(TensorShape([3, 5]), 2)"
            ]
          },
          "metadata": {},
          "execution_count": 35
        }
      ]
    },
    {
      "cell_type": "code",
      "source": [
        "#rank2 bir tesnor a bir boyut daha ekleme yani dimension sayısını arttırma\n",
        "rank_2_another_tensor=tf.constant([[2,4],[7,5]])\n",
        "rank_3_tesnor=rank_2_another_tensor[...,tf.newaxis]#axis in boyutlar olduğundan bahsetmiştik burada\n",
        "rank_3_tesnor                                      #(2,2) olan tensor için bir boyut eklendi ve (2,2,1) olmuş oldu"
      ],
      "metadata": {
        "id": "r3mJySKgeJLr",
        "colab": {
          "base_uri": "https://localhost:8080/"
        },
        "outputId": "514ea0c9-e022-4d63-e51d-707c3ff59ef1"
      },
      "execution_count": 37,
      "outputs": [
        {
          "output_type": "execute_result",
          "data": {
            "text/plain": [
              "<tf.Tensor: shape=(2, 2, 1), dtype=int32, numpy=\n",
              "array([[[2],\n",
              "        [4]],\n",
              "\n",
              "       [[7],\n",
              "        [5]]], dtype=int32)>"
            ]
          },
          "metadata": {},
          "execution_count": 37
        }
      ]
    },
    {
      "cell_type": "code",
      "source": [
        "rank_3_antoher_tensor=rank_2_another_tensor[tf.newaxis,...]\n",
        "rank_3_antoher_tensor #yukarıdakinin aksine burada da ilk kısma boyut eklendi axisi nereye ekleyeceğimizi seçebiliyoruz"
      ],
      "metadata": {
        "colab": {
          "base_uri": "https://localhost:8080/"
        },
        "id": "NwFJLj9ZdeP2",
        "outputId": "886f362b-9843-4179-cebf-acb117b517d5"
      },
      "execution_count": 38,
      "outputs": [
        {
          "output_type": "execute_result",
          "data": {
            "text/plain": [
              "<tf.Tensor: shape=(1, 2, 2), dtype=int32, numpy=\n",
              "array([[[2, 4],\n",
              "        [7, 5]]], dtype=int32)>"
            ]
          },
          "metadata": {},
          "execution_count": 38
        }
      ]
    },
    {
      "cell_type": "code",
      "source": [
        "#ya da farklı bir gösterim veya kullanım olarak şu uygulanabilir\n",
        "rank_3_another_tensor_2=rank_2_another_tensor[:,tf.newaxis,:] # önceki örneklerde olduğu gibi : kullanabiliriz\n",
        "rank_3_another_tensor_2                                       # bu şekilde aksisin nereye ekleneceğini belirtebiliyoruz \n",
        "                                                              # ortaya ekleyebildiğimiz gibi"
      ],
      "metadata": {
        "colab": {
          "base_uri": "https://localhost:8080/"
        },
        "id": "iPMWQlYbeBM1",
        "outputId": "6ddc2ce2-3c03-41f0-8ead-ddda64fa274a"
      },
      "execution_count": 41,
      "outputs": [
        {
          "output_type": "execute_result",
          "data": {
            "text/plain": [
              "<tf.Tensor: shape=(2, 1, 2), dtype=int32, numpy=\n",
              "array([[[2, 4]],\n",
              "\n",
              "       [[7, 5]]], dtype=int32)>"
            ]
          },
          "metadata": {},
          "execution_count": 41
        }
      ]
    },
    {
      "cell_type": "code",
      "source": [
        "#tf.newaxis e alternatif olarak tf.epand_dims() kullanılabilir \n",
        "tf.expand_dims(rank_2_another_tensor,axis=-1)# -1'in anlamı son axisden sonra bir aksis ekle sona ekle gibi\n",
        "                                             # burada 0 1 veya boyut sayımıza kadar değerler vererek araya da ekleme yapabilir ve genişletebiliriz                                            "
      ],
      "metadata": {
        "colab": {
          "base_uri": "https://localhost:8080/"
        },
        "id": "AAMw6NuLep5k",
        "outputId": "792805f2-5e9f-4be8-b337-5e36c3b40ba7"
      },
      "execution_count": 46,
      "outputs": [
        {
          "output_type": "execute_result",
          "data": {
            "text/plain": [
              "<tf.Tensor: shape=(2, 2, 1), dtype=int32, numpy=\n",
              "array([[[2],\n",
              "        [4]],\n",
              "\n",
              "       [[7],\n",
              "        [5]]], dtype=int32)>"
            ]
          },
          "metadata": {},
          "execution_count": 46
        }
      ]
    },
    {
      "cell_type": "markdown",
      "source": [
        "# Tensor Operasyonları tensoru manipule etmek yönetmek"
      ],
      "metadata": {
        "id": "JIhcg3y6fuaC"
      }
    },
    {
      "cell_type": "code",
      "source": [],
      "metadata": {
        "id": "hZaoqUZKft3f"
      },
      "execution_count": null,
      "outputs": []
    },
    {
      "cell_type": "code",
      "source": [],
      "metadata": {
        "id": "bTZzouUmfb_I"
      },
      "execution_count": null,
      "outputs": []
    }
  ]
}