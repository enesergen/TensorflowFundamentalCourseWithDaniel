{
  "nbformat": 4,
  "nbformat_minor": 0,
  "metadata": {
    "colab": {
      "provenance": [],
      "authorship_tag": "ABX9TyO5GLP/MvuRo82m5WDjxbnh",
      "include_colab_link": true
    },
    "kernelspec": {
      "name": "python3",
      "display_name": "Python 3"
    },
    "language_info": {
      "name": "python"
    }
  },
  "cells": [
    {
      "cell_type": "markdown",
      "metadata": {
        "id": "view-in-github",
        "colab_type": "text"
      },
      "source": [
        "<a href=\"https://colab.research.google.com/github/enesergen/TensorflowFundamentalCourseWithDaniel/blob/main/00_tensorflow_fundamentals.ipynb\" target=\"_parent\"><img src=\"https://colab.research.google.com/assets/colab-badge.svg\" alt=\"Open In Colab\"/></a>"
      ]
    },
    {
      "cell_type": "code",
      "execution_count": 1,
      "metadata": {
        "colab": {
          "base_uri": "https://localhost:8080/"
        },
        "id": "kBPHbFWqsAnp",
        "outputId": "bc3ce845-f793-4bb0-e5a1-faae6b2a9991"
      },
      "outputs": [
        {
          "output_type": "stream",
          "name": "stdout",
          "text": [
            "2.9.2\n"
          ]
        }
      ],
      "source": [
        "import tensorflow as tf\n",
        "print(tf.__version__)"
      ]
    },
    {
      "cell_type": "code",
      "source": [
        "#tf.constant  ile tensor oluşturma\n",
        "scaler=tf.constant(6)\n",
        "scaler"
      ],
      "metadata": {
        "colab": {
          "base_uri": "https://localhost:8080/"
        },
        "id": "J7Nu0O62t2x6",
        "outputId": "0de0013d-8304-48b7-c9f5-3ed7b9b64113"
      },
      "execution_count": 2,
      "outputs": [
        {
          "output_type": "execute_result",
          "data": {
            "text/plain": [
              "<tf.Tensor: shape=(), dtype=int32, numpy=6>"
            ]
          },
          "metadata": {},
          "execution_count": 2
        }
      ]
    },
    {
      "cell_type": "code",
      "source": [
        "scaler.ndim#tensorun boyutunu veriri ndim=number of dimension sanırım rank da diebiliriz"
      ],
      "metadata": {
        "colab": {
          "base_uri": "https://localhost:8080/"
        },
        "id": "GIdE5Ehiuuq8",
        "outputId": "e5a51cda-1f52-4249-8ec1-831cb04cdf01"
      },
      "execution_count": 3,
      "outputs": [
        {
          "output_type": "execute_result",
          "data": {
            "text/plain": [
              "0"
            ]
          },
          "metadata": {},
          "execution_count": 3
        }
      ]
    },
    {
      "cell_type": "code",
      "source": [
        "#vector oluşturma\n",
        "vector=tf.constant([12,6])\n",
        "vector"
      ],
      "metadata": {
        "colab": {
          "base_uri": "https://localhost:8080/"
        },
        "id": "bctFAZ5Nu_Nc",
        "outputId": "10525524-0b59-40b1-dda8-e99a1e89aaa1"
      },
      "execution_count": 4,
      "outputs": [
        {
          "output_type": "execute_result",
          "data": {
            "text/plain": [
              "<tf.Tensor: shape=(2,), dtype=int32, numpy=array([12,  6], dtype=int32)>"
            ]
          },
          "metadata": {},
          "execution_count": 4
        }
      ]
    },
    {
      "cell_type": "code",
      "source": [
        "vector.ndim"
      ],
      "metadata": {
        "colab": {
          "base_uri": "https://localhost:8080/"
        },
        "id": "Rl6E0HSqvGe7",
        "outputId": "436b7116-04b3-4c5e-dd3e-4bfac50d7c5e"
      },
      "execution_count": 5,
      "outputs": [
        {
          "output_type": "execute_result",
          "data": {
            "text/plain": [
              "1"
            ]
          },
          "metadata": {},
          "execution_count": 5
        }
      ]
    },
    {
      "cell_type": "code",
      "source": [
        "#matrix oluşturma\n",
        "matrix=tf.constant([[2,6],[3,5]])\n",
        "matrix"
      ],
      "metadata": {
        "colab": {
          "base_uri": "https://localhost:8080/"
        },
        "id": "3wVA2CWyvRKv",
        "outputId": "21ab4927-5e20-491c-cfa3-cfd24a4e22ab"
      },
      "execution_count": 6,
      "outputs": [
        {
          "output_type": "execute_result",
          "data": {
            "text/plain": [
              "<tf.Tensor: shape=(2, 2), dtype=int32, numpy=\n",
              "array([[2, 6],\n",
              "       [3, 5]], dtype=int32)>"
            ]
          },
          "metadata": {},
          "execution_count": 6
        }
      ]
    },
    {
      "cell_type": "code",
      "source": [
        "matrix.ndim"
      ],
      "metadata": {
        "colab": {
          "base_uri": "https://localhost:8080/"
        },
        "id": "lYQGA06KvcnL",
        "outputId": "5c7cdede-1194-41d9-9f0e-e3966547366b"
      },
      "execution_count": 7,
      "outputs": [
        {
          "output_type": "execute_result",
          "data": {
            "text/plain": [
              "2"
            ]
          },
          "metadata": {},
          "execution_count": 7
        }
      ]
    },
    {
      "cell_type": "code",
      "source": [
        "#başka bir matrix oluşturma\n",
        "another_matrix=tf.constant([[10.,7.],\n",
        "                            [5.,3.],\n",
        "                            [2.,9.]],dtype=tf.float16)\n",
        "another_matrix"
      ],
      "metadata": {
        "colab": {
          "base_uri": "https://localhost:8080/"
        },
        "id": "ErjzjdvVvzjn",
        "outputId": "ac8ab9e8-0678-47ad-943f-19ed07d9c00f"
      },
      "execution_count": 8,
      "outputs": [
        {
          "output_type": "execute_result",
          "data": {
            "text/plain": [
              "<tf.Tensor: shape=(3, 2), dtype=float16, numpy=\n",
              "array([[10.,  7.],\n",
              "       [ 5.,  3.],\n",
              "       [ 2.,  9.]], dtype=float16)>"
            ]
          },
          "metadata": {},
          "execution_count": 8
        }
      ]
    },
    {
      "cell_type": "code",
      "source": [
        "another_matrix.ndim"
      ],
      "metadata": {
        "colab": {
          "base_uri": "https://localhost:8080/"
        },
        "id": "h2Zpd8xxwH4K",
        "outputId": "045090aa-4815-4b37-aa0e-6924780934e2"
      },
      "execution_count": 9,
      "outputs": [
        {
          "output_type": "execute_result",
          "data": {
            "text/plain": [
              "2"
            ]
          },
          "metadata": {},
          "execution_count": 9
        }
      ]
    },
    {
      "cell_type": "code",
      "source": [
        "tensor=tf.constant([\n",
        "    [\n",
        "        [1,2,3],[4,5,6]],[[7,8,9],[10,11,12]],[[13,14,15],[16,17,18]\n",
        "                                               ]\n",
        "                    ]\n",
        "                   )\n",
        "tensor"
      ],
      "metadata": {
        "colab": {
          "base_uri": "https://localhost:8080/"
        },
        "id": "Go31mbjPxNV-",
        "outputId": "898d7750-8eb2-42ca-ca3d-cb874435e50c"
      },
      "execution_count": 10,
      "outputs": [
        {
          "output_type": "execute_result",
          "data": {
            "text/plain": [
              "<tf.Tensor: shape=(3, 2, 3), dtype=int32, numpy=\n",
              "array([[[ 1,  2,  3],\n",
              "        [ 4,  5,  6]],\n",
              "\n",
              "       [[ 7,  8,  9],\n",
              "        [10, 11, 12]],\n",
              "\n",
              "       [[13, 14, 15],\n",
              "        [16, 17, 18]]], dtype=int32)>"
            ]
          },
          "metadata": {},
          "execution_count": 10
        }
      ]
    },
    {
      "cell_type": "code",
      "source": [
        "tensor.ndim"
      ],
      "metadata": {
        "colab": {
          "base_uri": "https://localhost:8080/"
        },
        "id": "Bq8RCHooyk8p",
        "outputId": "f8f2fd7c-0bf9-4fd9-d0ba-ad9d18031283"
      },
      "execution_count": 11,
      "outputs": [
        {
          "output_type": "execute_result",
          "data": {
            "text/plain": [
              "3"
            ]
          },
          "metadata": {},
          "execution_count": 11
        }
      ]
    },
    {
      "cell_type": "markdown",
      "source": [
        "#Yukarıda ne öğrendik:\n",
        "* Scaler:0 boyutlu. \n",
        "* Vector=1 boyutlu.\n",
        "* matrix=2 boyutlu\n",
        "* tensor=n boyutlu olabilir tamamen oluşturmaya göre boyut sayısını siz belirleyebiliyoruz.\n",
        "\n"
      ],
      "metadata": {
        "id": "JNf46NhKzTZX"
      }
    },
    {
      "cell_type": "code",
      "source": [
        "#tf.variable ile tensor oluşturma\n",
        "changeable_tesnor=tf.Variable([3,4])#değiştirilebilir tensor yani verdiğimiz değerleri değiştirebiliyoruz\n",
        "unchangeable_tesnor=tf.constant([3,4])#constant sabit değerli tensor\n",
        "changeable_tesnor,unchangeable_tesnor"
      ],
      "metadata": {
        "colab": {
          "base_uri": "https://localhost:8080/"
        },
        "id": "87EsOxPMyoD-",
        "outputId": "b68c54c6-ed1e-491d-fdec-dd3a70a4ab69"
      },
      "execution_count": 12,
      "outputs": [
        {
          "output_type": "execute_result",
          "data": {
            "text/plain": [
              "(<tf.Variable 'Variable:0' shape=(2,) dtype=int32, numpy=array([3, 4], dtype=int32)>,\n",
              " <tf.Tensor: shape=(2,), dtype=int32, numpy=array([3, 4], dtype=int32)>)"
            ]
          },
          "metadata": {},
          "execution_count": 12
        }
      ]
    },
    {
      "cell_type": "code",
      "source": [
        "#değiştirmeyi deneyelim \n",
        "changeable_tesnor[0]"
      ],
      "metadata": {
        "colab": {
          "base_uri": "https://localhost:8080/"
        },
        "id": "d2B2IJ660R9z",
        "outputId": "c7c1cef5-c3ad-491b-80ae-10fc5a36b139"
      },
      "execution_count": 13,
      "outputs": [
        {
          "output_type": "execute_result",
          "data": {
            "text/plain": [
              "<tf.Tensor: shape=(), dtype=int32, numpy=3>"
            ]
          },
          "metadata": {},
          "execution_count": 13
        }
      ]
    },
    {
      "cell_type": "code",
      "source": [
        "changeable_tesnor[0].assign(22)\n",
        "changeable_tesnor"
      ],
      "metadata": {
        "colab": {
          "base_uri": "https://localhost:8080/"
        },
        "id": "2cT6kfu51det",
        "outputId": "0d8dae99-66c0-4ce9-ef7e-bcbb67e199f3"
      },
      "execution_count": 14,
      "outputs": [
        {
          "output_type": "execute_result",
          "data": {
            "text/plain": [
              "<tf.Variable 'Variable:0' shape=(2,) dtype=int32, numpy=array([22,  4], dtype=int32)>"
            ]
          },
          "metadata": {},
          "execution_count": 14
        }
      ]
    },
    {
      "cell_type": "markdown",
      "source": [
        "**Eğer ileride değiştirmek zorunda olacağımız bir tensor ile çalışacaksak tf.Variable() ile oluşturmamız gerekiyor aksi halde tf.constant() ile oluşturursak bunu değiştirmek mümkün olmayacaktır.`**"
      ],
      "metadata": {
        "id": "3d2AqN2x26h9"
      }
    },
    {
      "cell_type": "code",
      "source": [
        "#random tensor oluşturma\n",
        "random_tensor1=tf.random.Generator.from_seed(42)\n",
        "random_tensor1=random_tensor1.normal(shape=(3,2))#normal dağılım kullanarak oluşturuyor \n",
        "random_tensor2=tf.random.Generator.from_seed(42)\n",
        "random_tensor2=random_tensor2.normal(shape=(3,2))\n",
        "random_tensor1,random_tensor1,random_tensor1==random_tensor2"
      ],
      "metadata": {
        "colab": {
          "base_uri": "https://localhost:8080/"
        },
        "id": "OTpXl2SF1iAX",
        "outputId": "49ae2d51-5043-4270-f449-22544e074109"
      },
      "execution_count": 15,
      "outputs": [
        {
          "output_type": "execute_result",
          "data": {
            "text/plain": [
              "(<tf.Tensor: shape=(3, 2), dtype=float32, numpy=\n",
              " array([[-0.7565803 , -0.06854702],\n",
              "        [ 0.07595026, -1.2573844 ],\n",
              "        [-0.23193763, -1.8107855 ]], dtype=float32)>,\n",
              " <tf.Tensor: shape=(3, 2), dtype=float32, numpy=\n",
              " array([[-0.7565803 , -0.06854702],\n",
              "        [ 0.07595026, -1.2573844 ],\n",
              "        [-0.23193763, -1.8107855 ]], dtype=float32)>,\n",
              " <tf.Tensor: shape=(3, 2), dtype=bool, numpy=\n",
              " array([[ True,  True],\n",
              "        [ True,  True],\n",
              "        [ True,  True]])>)"
            ]
          },
          "metadata": {},
          "execution_count": 15
        }
      ]
    },
    {
      "cell_type": "markdown",
      "source": [
        "** Öğrenme algoritmasını daha iyi hale getirmek için verisetmizi shuffle karıştırma işlemi yapmamız gerekiyor örnek olarak 15bin verilik ilk verisetinin ilk 10bin tanesi bisiklet sonraki 5bin tanesi araba olsun burada sistemimiz ilk 10bin taneden sadece bisikteli öğrenir onun için kendisini eğitir bunun önüne geçebilmek için shuffle yani karıştırma işlemi yapmamız gerekir**"
      ],
      "metadata": {
        "id": "H02RhhUx7LPh"
      }
    },
    {
      "cell_type": "code",
      "source": [
        "#tensor için shuffle işlemini yapmak\n",
        "not_shuffled=tf.constant([\n",
        "    [1,2,3],[4,5,6],[7,8,9]\n",
        "])\n",
        "not_shuffled.ndim"
      ],
      "metadata": {
        "colab": {
          "base_uri": "https://localhost:8080/"
        },
        "id": "sRyWtsEw7Kau",
        "outputId": "d5c0096b-d9d3-4020-f1dc-87a55e5136c8"
      },
      "execution_count": 16,
      "outputs": [
        {
          "output_type": "execute_result",
          "data": {
            "text/plain": [
              "2"
            ]
          },
          "metadata": {},
          "execution_count": 16
        }
      ]
    },
    {
      "cell_type": "code",
      "source": [
        "not_shuffled"
      ],
      "metadata": {
        "colab": {
          "base_uri": "https://localhost:8080/"
        },
        "id": "SVOP09Mi6gdJ",
        "outputId": "2067a629-9029-4272-9497-8c7ca0fa9e6b"
      },
      "execution_count": 17,
      "outputs": [
        {
          "output_type": "execute_result",
          "data": {
            "text/plain": [
              "<tf.Tensor: shape=(3, 3), dtype=int32, numpy=\n",
              "array([[1, 2, 3],\n",
              "       [4, 5, 6],\n",
              "       [7, 8, 9]], dtype=int32)>"
            ]
          },
          "metadata": {},
          "execution_count": 17
        }
      ]
    },
    {
      "cell_type": "code",
      "source": [
        "tf.random.shuffle(not_shuffled)#random.shuffly first dimension yani (3,3) ün ilk 3 teki boyut üzerinde karışıklık yapar sonraki boyuta karışmaz "
      ],
      "metadata": {
        "colab": {
          "base_uri": "https://localhost:8080/"
        },
        "id": "DIak-x0O8RIq",
        "outputId": "b0073547-1b64-4761-9cb5-39f668b95aab"
      },
      "execution_count": 18,
      "outputs": [
        {
          "output_type": "execute_result",
          "data": {
            "text/plain": [
              "<tf.Tensor: shape=(3, 3), dtype=int32, numpy=\n",
              "array([[1, 2, 3],\n",
              "       [7, 8, 9],\n",
              "       [4, 5, 6]], dtype=int32)>"
            ]
          },
          "metadata": {},
          "execution_count": 18
        }
      ]
    },
    {
      "cell_type": "code",
      "source": [
        "tf.random.shuffle(not_shuffled)#random.shuffly first dimension yani (3,3) ün ilk 3 teki boyut üzerinde karışıklık yapar sonraki boyuta karışmaz "
      ],
      "metadata": {
        "colab": {
          "base_uri": "https://localhost:8080/"
        },
        "id": "jwZDxRHr84Ga",
        "outputId": "4abcba1e-fd34-4042-e3f0-00a1403a61d9"
      },
      "execution_count": 19,
      "outputs": [
        {
          "output_type": "execute_result",
          "data": {
            "text/plain": [
              "<tf.Tensor: shape=(3, 3), dtype=int32, numpy=\n",
              "array([[7, 8, 9],\n",
              "       [4, 5, 6],\n",
              "       [1, 2, 3]], dtype=int32)>"
            ]
          },
          "metadata": {},
          "execution_count": 19
        }
      ]
    },
    {
      "cell_type": "code",
      "source": [
        "tf.random.shuffle(not_shuffled,seed=42)# seed sayısını verdiğimiz zaman ne kadar tekrar çalıştırsakta karıştırma sonucu hep aynı olacaktır\n",
        "#kodu birden fazlakez çalıştırdım ama sonuç hep aynı sırada çıktı shuffle yaptı ama tekrar tekrar çalıştırdığımda da aynı sonucu elde ettim\n",
        "#ayrıca 2 tür seed vardır bir global bide operation level seed vardır bunlar biri fonksiyon içinde seed= ile diğeri ise tensor.set_seed() şeklinde kullanılılır \n",
        "#bunların farkı sanıyorumki operasyon içindeki sadece o satır için etkili ama global olan bir kere tanımlıyorsunuz ve tüm farklı satırlardaki shuffle için aynı seed değeri kullanılıyor"
      ],
      "metadata": {
        "colab": {
          "base_uri": "https://localhost:8080/"
        },
        "id": "Kg6c0Xd89zcn",
        "outputId": "dd77af08-2f47-4b4c-fa09-3ef444c6410c"
      },
      "execution_count": 20,
      "outputs": [
        {
          "output_type": "execute_result",
          "data": {
            "text/plain": [
              "<tf.Tensor: shape=(3, 3), dtype=int32, numpy=\n",
              "array([[7, 8, 9],\n",
              "       [4, 5, 6],\n",
              "       [1, 2, 3]], dtype=int32)>"
            ]
          },
          "metadata": {},
          "execution_count": 20
        }
      ]
    },
    {
      "cell_type": "code",
      "source": [
        "#other tensors\n",
        "#numpy ones:içinin 1 ile dolu olan tensor oluşturur.\n",
        "tf.ones([7,10])"
      ],
      "metadata": {
        "colab": {
          "base_uri": "https://localhost:8080/"
        },
        "id": "TMLQWlbxPhqU",
        "outputId": "326c2d2d-6110-40a1-cbe5-d8cb0850bc08"
      },
      "execution_count": 21,
      "outputs": [
        {
          "output_type": "execute_result",
          "data": {
            "text/plain": [
              "<tf.Tensor: shape=(7, 10), dtype=float32, numpy=\n",
              "array([[1., 1., 1., 1., 1., 1., 1., 1., 1., 1.],\n",
              "       [1., 1., 1., 1., 1., 1., 1., 1., 1., 1.],\n",
              "       [1., 1., 1., 1., 1., 1., 1., 1., 1., 1.],\n",
              "       [1., 1., 1., 1., 1., 1., 1., 1., 1., 1.],\n",
              "       [1., 1., 1., 1., 1., 1., 1., 1., 1., 1.],\n",
              "       [1., 1., 1., 1., 1., 1., 1., 1., 1., 1.],\n",
              "       [1., 1., 1., 1., 1., 1., 1., 1., 1., 1.]], dtype=float32)>"
            ]
          },
          "metadata": {},
          "execution_count": 21
        }
      ]
    },
    {
      "cell_type": "code",
      "source": [
        "tf.zeros([3,4])#hepsi 0 olan bir tensor oluşturur"
      ],
      "metadata": {
        "colab": {
          "base_uri": "https://localhost:8080/"
        },
        "id": "fSqpzvPVQY2u",
        "outputId": "42d3ab56-6aed-4780-cc8c-cfb60b098764"
      },
      "execution_count": 22,
      "outputs": [
        {
          "output_type": "execute_result",
          "data": {
            "text/plain": [
              "<tf.Tensor: shape=(3, 4), dtype=float32, numpy=\n",
              "array([[0., 0., 0., 0.],\n",
              "       [0., 0., 0., 0.],\n",
              "       [0., 0., 0., 0.]], dtype=float32)>"
            ]
          },
          "metadata": {},
          "execution_count": 22
        }
      ]
    },
    {
      "cell_type": "code",
      "source": [
        "tf.zeros(shape=(3,4))#farklı bir gösterimi"
      ],
      "metadata": {
        "colab": {
          "base_uri": "https://localhost:8080/"
        },
        "id": "labuYMhGQbbc",
        "outputId": "362bcf81-f171-435c-9368-4b2e0fef9c03"
      },
      "execution_count": 23,
      "outputs": [
        {
          "output_type": "execute_result",
          "data": {
            "text/plain": [
              "<tf.Tensor: shape=(3, 4), dtype=float32, numpy=\n",
              "array([[0., 0., 0., 0.],\n",
              "       [0., 0., 0., 0.],\n",
              "       [0., 0., 0., 0.]], dtype=float32)>"
            ]
          },
          "metadata": {},
          "execution_count": 23
        }
      ]
    },
    {
      "cell_type": "markdown",
      "source": [
        "# * Numpy  array ile tensor arasındaki en büyük fark; tensorlar GPU üzerinde çalışabilirler bu yüzden çok hızlı matematiksel hesaplamaları yapılabilir."
      ],
      "metadata": {
        "id": "Q8yOwPMGRCO_"
      }
    },
    {
      "cell_type": "code",
      "source": [
        "#ayrıca numpy array leri tensor lara dönüştürebiliriz\n",
        "import numpy as np\n",
        "numpy_A=np.arange(1,25,dtype=np.int32) #numpy array oluşturma 1 ile 20 arasında int32bit tipinde \n",
        "numpy_A"
      ],
      "metadata": {
        "colab": {
          "base_uri": "https://localhost:8080/"
        },
        "id": "SAWYdOTBQyon",
        "outputId": "4c740399-490d-4596-db98-3f1aed779200"
      },
      "execution_count": 24,
      "outputs": [
        {
          "output_type": "execute_result",
          "data": {
            "text/plain": [
              "array([ 1,  2,  3,  4,  5,  6,  7,  8,  9, 10, 11, 12, 13, 14, 15, 16, 17,\n",
              "       18, 19, 20, 21, 22, 23, 24], dtype=int32)"
            ]
          },
          "metadata": {},
          "execution_count": 24
        }
      ]
    },
    {
      "cell_type": "code",
      "source": [
        "#numpy array'i tensor a dönüştürme\n",
        "A=tf.constant(numpy_A)\n",
        "A"
      ],
      "metadata": {
        "colab": {
          "base_uri": "https://localhost:8080/"
        },
        "id": "2HdkE11sR3rB",
        "outputId": "1fcc7dce-873f-43fe-fff2-c4c7222e0e97"
      },
      "execution_count": 25,
      "outputs": [
        {
          "output_type": "execute_result",
          "data": {
            "text/plain": [
              "<tf.Tensor: shape=(24,), dtype=int32, numpy=\n",
              "array([ 1,  2,  3,  4,  5,  6,  7,  8,  9, 10, 11, 12, 13, 14, 15, 16, 17,\n",
              "       18, 19, 20, 21, 22, 23, 24], dtype=int32)>"
            ]
          },
          "metadata": {},
          "execution_count": 25
        }
      ]
    },
    {
      "cell_type": "code",
      "source": [
        "#ayrıca dönüştürme sırasında shape üzerinde de bir değişklik yapabilriz\n",
        "B=tf.constant(numpy_A,shape=(2,3,4))#burada 2*3*4=24 numpy array deki eleman sayısını karşılamalıdır.\n",
        "B"
      ],
      "metadata": {
        "colab": {
          "base_uri": "https://localhost:8080/"
        },
        "id": "pwadZMooSK5B",
        "outputId": "089ed285-c848-4b77-e93c-28f5136d5d9a"
      },
      "execution_count": 26,
      "outputs": [
        {
          "output_type": "execute_result",
          "data": {
            "text/plain": [
              "<tf.Tensor: shape=(2, 3, 4), dtype=int32, numpy=\n",
              "array([[[ 1,  2,  3,  4],\n",
              "        [ 5,  6,  7,  8],\n",
              "        [ 9, 10, 11, 12]],\n",
              "\n",
              "       [[13, 14, 15, 16],\n",
              "        [17, 18, 19, 20],\n",
              "        [21, 22, 23, 24]]], dtype=int32)>"
            ]
          },
          "metadata": {},
          "execution_count": 26
        }
      ]
    },
    {
      "cell_type": "markdown",
      "source": [
        "### Tensor hakkında bilgiler\n",
        "* Shape\n",
        "* Rank\n",
        "* Axis or dimension(boyut)\n",
        "* Size"
      ],
      "metadata": {
        "id": "t3scneOOT_8Q"
      }
    },
    {
      "cell_type": "code",
      "source": [
        "#rank 4 olan bir tensor oluşturalım 4 dimension boyutlu demek\n",
        "rank_4_tensor=tf.zeros(shape=(2,3,4,5))\n",
        "rank_4_tensor"
      ],
      "metadata": {
        "colab": {
          "base_uri": "https://localhost:8080/"
        },
        "id": "PN4gEovcT_oM",
        "outputId": "42386f44-a415-47b2-eab6-53063e88cdd6"
      },
      "execution_count": 27,
      "outputs": [
        {
          "output_type": "execute_result",
          "data": {
            "text/plain": [
              "<tf.Tensor: shape=(2, 3, 4, 5), dtype=float32, numpy=\n",
              "array([[[[0., 0., 0., 0., 0.],\n",
              "         [0., 0., 0., 0., 0.],\n",
              "         [0., 0., 0., 0., 0.],\n",
              "         [0., 0., 0., 0., 0.]],\n",
              "\n",
              "        [[0., 0., 0., 0., 0.],\n",
              "         [0., 0., 0., 0., 0.],\n",
              "         [0., 0., 0., 0., 0.],\n",
              "         [0., 0., 0., 0., 0.]],\n",
              "\n",
              "        [[0., 0., 0., 0., 0.],\n",
              "         [0., 0., 0., 0., 0.],\n",
              "         [0., 0., 0., 0., 0.],\n",
              "         [0., 0., 0., 0., 0.]]],\n",
              "\n",
              "\n",
              "       [[[0., 0., 0., 0., 0.],\n",
              "         [0., 0., 0., 0., 0.],\n",
              "         [0., 0., 0., 0., 0.],\n",
              "         [0., 0., 0., 0., 0.]],\n",
              "\n",
              "        [[0., 0., 0., 0., 0.],\n",
              "         [0., 0., 0., 0., 0.],\n",
              "         [0., 0., 0., 0., 0.],\n",
              "         [0., 0., 0., 0., 0.]],\n",
              "\n",
              "        [[0., 0., 0., 0., 0.],\n",
              "         [0., 0., 0., 0., 0.],\n",
              "         [0., 0., 0., 0., 0.],\n",
              "         [0., 0., 0., 0., 0.]]]], dtype=float32)>"
            ]
          },
          "metadata": {},
          "execution_count": 27
        }
      ]
    },
    {
      "cell_type": "code",
      "source": [
        "rank_4_tensor.shape,rank_4_tensor.ndim,tf.size(rank_4_tensor)"
      ],
      "metadata": {
        "colab": {
          "base_uri": "https://localhost:8080/"
        },
        "id": "KYanVdJkTPiU",
        "outputId": "d5e218df-e4f4-4201-c40a-54629266d7a8"
      },
      "execution_count": 28,
      "outputs": [
        {
          "output_type": "execute_result",
          "data": {
            "text/plain": [
              "(TensorShape([2, 3, 4, 5]), 4, <tf.Tensor: shape=(), dtype=int32, numpy=120>)"
            ]
          },
          "metadata": {},
          "execution_count": 28
        }
      ]
    },
    {
      "cell_type": "code",
      "source": [
        "rank_4_tensor.shape[0],rank_4_tensor.shape[-1]# burada 0 yazan ilk boyut olan 2 yi ; -1 ise son boyut olan 5 i verir.\n",
        "#yani ilk axis shape[0] ile 2 yi ; ikinci axis shape[1] ile 3 olurdu"
      ],
      "metadata": {
        "colab": {
          "base_uri": "https://localhost:8080/"
        },
        "id": "T6UcR0JaWtXt",
        "outputId": "531628c7-6df0-4176-a759-7352ffefc8cb"
      },
      "execution_count": 29,
      "outputs": [
        {
          "output_type": "execute_result",
          "data": {
            "text/plain": [
              "(2, 5)"
            ]
          },
          "metadata": {},
          "execution_count": 29
        }
      ]
    },
    {
      "cell_type": "code",
      "source": [
        "#size öğrenme ve sayısal olarak alma\n",
        "tf.size(rank_4_tensor)"
      ],
      "metadata": {
        "colab": {
          "base_uri": "https://localhost:8080/"
        },
        "id": "tMyFOE1SXnRa",
        "outputId": "d3988370-6a40-4d5d-9958-246661c33bae"
      },
      "execution_count": 30,
      "outputs": [
        {
          "output_type": "execute_result",
          "data": {
            "text/plain": [
              "<tf.Tensor: shape=(), dtype=int32, numpy=120>"
            ]
          },
          "metadata": {},
          "execution_count": 30
        }
      ]
    },
    {
      "cell_type": "code",
      "source": [
        "tf.size(rank_4_tensor).numpy()"
      ],
      "metadata": {
        "colab": {
          "base_uri": "https://localhost:8080/"
        },
        "id": "pd4h6Gi0Xtvi",
        "outputId": "4e375cbc-9e19-47e2-9886-4e9ad58dbf02"
      },
      "execution_count": 31,
      "outputs": [
        {
          "output_type": "execute_result",
          "data": {
            "text/plain": [
              "120"
            ]
          },
          "metadata": {},
          "execution_count": 31
        }
      ]
    },
    {
      "cell_type": "markdown",
      "source": [
        "## Tensorlar indexlenebilirler aynı listeler gibi"
      ],
      "metadata": {
        "id": "vFwMNeSlYAsn"
      }
    },
    {
      "cell_type": "code",
      "source": [
        "#her boyuttaki ilk iki elemanı almak\n",
        "#önce bir liste örneği\n",
        "some_list=[1,2,3,4,5]\n",
        "some_list[:2]"
      ],
      "metadata": {
        "colab": {
          "base_uri": "https://localhost:8080/"
        },
        "id": "wXrcZTy7YF-l",
        "outputId": "4684bd24-f40d-4524-f9ca-301c450f1543"
      },
      "execution_count": 32,
      "outputs": [
        {
          "output_type": "execute_result",
          "data": {
            "text/plain": [
              "[1, 2]"
            ]
          },
          "metadata": {},
          "execution_count": 32
        }
      ]
    },
    {
      "cell_type": "code",
      "source": [
        "#şimdi tensor örneği\n",
        "rank_4_tensor[:2,:2,:2,:2] #şeklinde yapılır her boyut için sırasıyla kaç tanesini almak istediğimizi belirtiriz"
      ],
      "metadata": {
        "colab": {
          "base_uri": "https://localhost:8080/"
        },
        "id": "GHWQRwARYpLA",
        "outputId": "9b07f4c2-6083-43dd-86a4-2d4ec248b7e9"
      },
      "execution_count": 33,
      "outputs": [
        {
          "output_type": "execute_result",
          "data": {
            "text/plain": [
              "<tf.Tensor: shape=(2, 2, 2, 2), dtype=float32, numpy=\n",
              "array([[[[0., 0.],\n",
              "         [0., 0.]],\n",
              "\n",
              "        [[0., 0.],\n",
              "         [0., 0.]]],\n",
              "\n",
              "\n",
              "       [[[0., 0.],\n",
              "         [0., 0.]],\n",
              "\n",
              "        [[0., 0.],\n",
              "         [0., 0.]]]], dtype=float32)>"
            ]
          },
          "metadata": {},
          "execution_count": 33
        }
      ]
    },
    {
      "cell_type": "code",
      "source": [
        "# tüm boyutlardan 1 tane alıp son boyutu numara yazmadığımız için tamamını aldı\n",
        "# bu şununla da eşdeğerdir rank_4_tensor[:1,:1,:1] yani yazmasakta olur yine aynı\n",
        "rank_4_tensor[:1,:1,:1,:],rank_4_tensor[:1,:1,:1]"
      ],
      "metadata": {
        "colab": {
          "base_uri": "https://localhost:8080/"
        },
        "id": "2ouMPbm5aFq_",
        "outputId": "8751132a-7afd-4458-8a9f-06663272bf09"
      },
      "execution_count": 34,
      "outputs": [
        {
          "output_type": "execute_result",
          "data": {
            "text/plain": [
              "(<tf.Tensor: shape=(1, 1, 1, 5), dtype=float32, numpy=array([[[[0., 0., 0., 0., 0.]]]], dtype=float32)>,\n",
              " <tf.Tensor: shape=(1, 1, 1, 5), dtype=float32, numpy=array([[[[0., 0., 0., 0., 0.]]]], dtype=float32)>)"
            ]
          },
          "metadata": {},
          "execution_count": 34
        }
      ]
    },
    {
      "cell_type": "code",
      "source": [
        "#bir tensor için boyut değişimi yapmak azaltmak ya da arttırmak\n",
        "#rank 2 yani 2 boyutlu bir tensor oluşturalım\n",
        "rank_2_tensor=tf.zeros(shape=(3,5))\n",
        "rank_2_tensor.shape,rank_2_tensor.ndim"
      ],
      "metadata": {
        "colab": {
          "base_uri": "https://localhost:8080/"
        },
        "id": "VOHo-jo4eIy6",
        "outputId": "3c32c6d2-0a09-4222-dfd3-67b4c8e6b7ad"
      },
      "execution_count": 35,
      "outputs": [
        {
          "output_type": "execute_result",
          "data": {
            "text/plain": [
              "(TensorShape([3, 5]), 2)"
            ]
          },
          "metadata": {},
          "execution_count": 35
        }
      ]
    },
    {
      "cell_type": "code",
      "source": [
        "#rank2 bir tesnor a bir boyut daha ekleme yani dimension sayısını arttırma\n",
        "rank_2_another_tensor=tf.constant([[2,4],[7,5]])\n",
        "rank_3_tesnor=rank_2_another_tensor[...,tf.newaxis]#axis in boyutlar olduğundan bahsetmiştik burada\n",
        "rank_3_tesnor                                      #(2,2) olan tensor için bir boyut eklendi ve (2,2,1) olmuş oldu"
      ],
      "metadata": {
        "id": "r3mJySKgeJLr",
        "colab": {
          "base_uri": "https://localhost:8080/"
        },
        "outputId": "283d80be-4df0-4c0c-9128-f96feae71a2f"
      },
      "execution_count": 36,
      "outputs": [
        {
          "output_type": "execute_result",
          "data": {
            "text/plain": [
              "<tf.Tensor: shape=(2, 2, 1), dtype=int32, numpy=\n",
              "array([[[2],\n",
              "        [4]],\n",
              "\n",
              "       [[7],\n",
              "        [5]]], dtype=int32)>"
            ]
          },
          "metadata": {},
          "execution_count": 36
        }
      ]
    },
    {
      "cell_type": "code",
      "source": [
        "rank_3_antoher_tensor=rank_2_another_tensor[tf.newaxis,...]\n",
        "rank_3_antoher_tensor #yukarıdakinin aksine burada da ilk kısma boyut eklendi axisi nereye ekleyeceğimizi seçebiliyoruz"
      ],
      "metadata": {
        "colab": {
          "base_uri": "https://localhost:8080/"
        },
        "id": "NwFJLj9ZdeP2",
        "outputId": "bb1110f6-1e36-45bf-f19c-b29dffaa058c"
      },
      "execution_count": 37,
      "outputs": [
        {
          "output_type": "execute_result",
          "data": {
            "text/plain": [
              "<tf.Tensor: shape=(1, 2, 2), dtype=int32, numpy=\n",
              "array([[[2, 4],\n",
              "        [7, 5]]], dtype=int32)>"
            ]
          },
          "metadata": {},
          "execution_count": 37
        }
      ]
    },
    {
      "cell_type": "code",
      "source": [
        "#ya da farklı bir gösterim veya kullanım olarak şu uygulanabilir\n",
        "rank_3_another_tensor_2=rank_2_another_tensor[:,tf.newaxis,:] # önceki örneklerde olduğu gibi : kullanabiliriz\n",
        "rank_3_another_tensor_2                                       # bu şekilde aksisin nereye ekleneceğini belirtebiliyoruz \n",
        "                                                              # ortaya ekleyebildiğimiz gibi"
      ],
      "metadata": {
        "colab": {
          "base_uri": "https://localhost:8080/"
        },
        "id": "iPMWQlYbeBM1",
        "outputId": "743469d6-7f7b-4a9e-bc89-149d22a1f96b"
      },
      "execution_count": 38,
      "outputs": [
        {
          "output_type": "execute_result",
          "data": {
            "text/plain": [
              "<tf.Tensor: shape=(2, 1, 2), dtype=int32, numpy=\n",
              "array([[[2, 4]],\n",
              "\n",
              "       [[7, 5]]], dtype=int32)>"
            ]
          },
          "metadata": {},
          "execution_count": 38
        }
      ]
    },
    {
      "cell_type": "code",
      "source": [
        "#tf.newaxis e alternatif olarak tf.epand_dims() kullanılabilir \n",
        "tf.expand_dims(rank_2_another_tensor,axis=-1)# -1'in anlamı son axisden sonra bir aksis ekle sona ekle gibi\n",
        "                                             # burada 0 1 veya boyut sayımıza kadar değerler vererek araya da ekleme yapabilir ve genişletebiliriz                                            "
      ],
      "metadata": {
        "colab": {
          "base_uri": "https://localhost:8080/"
        },
        "id": "AAMw6NuLep5k",
        "outputId": "4266a332-9b2a-48dc-a36a-8a0d13bcc0d5"
      },
      "execution_count": 39,
      "outputs": [
        {
          "output_type": "execute_result",
          "data": {
            "text/plain": [
              "<tf.Tensor: shape=(2, 2, 1), dtype=int32, numpy=\n",
              "array([[[2],\n",
              "        [4]],\n",
              "\n",
              "       [[7],\n",
              "        [5]]], dtype=int32)>"
            ]
          },
          "metadata": {},
          "execution_count": 39
        }
      ]
    },
    {
      "cell_type": "markdown",
      "source": [
        "# Tensor Operasyonları tensoru manipule etmek yönetmek\n",
        "\"+\" , \"-\" , \"*\" , \"/\""
      ],
      "metadata": {
        "id": "JIhcg3y6fuaC"
      }
    },
    {
      "cell_type": "code",
      "source": [
        "tensor=tf.constant([[2,5],[3,7]])\n",
        "tensor+10#burada atama işlemi olmaz tensor değişmez olması için tensor=tensor+10 yapmamız gerekir\n",
        "tensor,tensor+15\n",
        "#bu işlemler diğer temel 3 operasyon için de aynı şekilde işler"
      ],
      "metadata": {
        "colab": {
          "base_uri": "https://localhost:8080/"
        },
        "id": "hZaoqUZKft3f",
        "outputId": "5e08e39d-173d-45ac-ad8e-7aab32db3351"
      },
      "execution_count": 40,
      "outputs": [
        {
          "output_type": "execute_result",
          "data": {
            "text/plain": [
              "(<tf.Tensor: shape=(2, 2), dtype=int32, numpy=\n",
              " array([[2, 5],\n",
              "        [3, 7]], dtype=int32)>, <tf.Tensor: shape=(2, 2), dtype=int32, numpy=\n",
              " array([[17, 20],\n",
              "        [18, 22]], dtype=int32)>)"
            ]
          },
          "metadata": {},
          "execution_count": 40
        }
      ]
    },
    {
      "cell_type": "code",
      "source": [
        "#ayrıca tenserflowun kendi fonksiyonlarını da kullanabiliriz\n",
        "tf.multiply(tensor,2)\n",
        "tensor#görüldüğü gibi yine atama işlemi olmadı\n",
        "#gpu üzerinde büyük tesnor la daha hızlı işlem için kendi fonksiyonlarını kullanmak gerekir"
      ],
      "metadata": {
        "colab": {
          "base_uri": "https://localhost:8080/"
        },
        "id": "bTZzouUmfb_I",
        "outputId": "986b8f09-aaac-4d34-9ba6-fc7ae9a76316"
      },
      "execution_count": 41,
      "outputs": [
        {
          "output_type": "execute_result",
          "data": {
            "text/plain": [
              "<tf.Tensor: shape=(2, 2), dtype=int32, numpy=\n",
              "array([[2, 5],\n",
              "       [3, 7]], dtype=int32)>"
            ]
          },
          "metadata": {},
          "execution_count": 41
        }
      ]
    },
    {
      "cell_type": "markdown",
      "source": [
        "***Matrix Çarpımı***"
      ],
      "metadata": {
        "id": "ltazzqmIitad"
      }
    },
    {
      "cell_type": "code",
      "source": [
        "print(tensor)\n",
        "tf.matmul(tensor,tensor)"
      ],
      "metadata": {
        "colab": {
          "base_uri": "https://localhost:8080/"
        },
        "id": "4E70IMGgivYa",
        "outputId": "849c18c7-b667-4c4a-832a-d47b3b4be5aa"
      },
      "execution_count": 42,
      "outputs": [
        {
          "output_type": "stream",
          "name": "stdout",
          "text": [
            "tf.Tensor(\n",
            "[[2 5]\n",
            " [3 7]], shape=(2, 2), dtype=int32)\n"
          ]
        },
        {
          "output_type": "execute_result",
          "data": {
            "text/plain": [
              "<tf.Tensor: shape=(2, 2), dtype=int32, numpy=\n",
              "array([[19, 45],\n",
              "       [27, 64]], dtype=int32)>"
            ]
          },
          "metadata": {},
          "execution_count": 42
        }
      ]
    },
    {
      "cell_type": "code",
      "source": [
        "#python @ operatörü ile matrix çarpımı yapılabilir\n",
        "tensor @ tensor"
      ],
      "metadata": {
        "colab": {
          "base_uri": "https://localhost:8080/"
        },
        "id": "9aDG4B4YmA-C",
        "outputId": "7335bb8f-4c13-4dee-9c17-8c036ae51bbd"
      },
      "execution_count": 43,
      "outputs": [
        {
          "output_type": "execute_result",
          "data": {
            "text/plain": [
              "<tf.Tensor: shape=(2, 2), dtype=int32, numpy=\n",
              "array([[19, 45],\n",
              "       [27, 64]], dtype=int32)>"
            ]
          },
          "metadata": {},
          "execution_count": 43
        }
      ]
    },
    {
      "cell_type": "code",
      "source": [
        "#bir tensoru reshape ile yeniden şekillendirebiliriz\n",
        "Y=tf.constant([[1,2,3],[4,5,6]])# şekilde shape=(2,3) olan bir tensor var\n",
        "Y "
      ],
      "metadata": {
        "colab": {
          "base_uri": "https://localhost:8080/"
        },
        "id": "W8rAjlh6mYKp",
        "outputId": "4b973b45-61cd-48e7-86d0-393a5bcf1719"
      },
      "execution_count": 44,
      "outputs": [
        {
          "output_type": "execute_result",
          "data": {
            "text/plain": [
              "<tf.Tensor: shape=(2, 3), dtype=int32, numpy=\n",
              "array([[1, 2, 3],\n",
              "       [4, 5, 6]], dtype=int32)>"
            ]
          },
          "metadata": {},
          "execution_count": 44
        }
      ]
    },
    {
      "cell_type": "markdown",
      "source": [
        "## Reshape yeniden şekillendirme (3,2)->(3,2)"
      ],
      "metadata": {
        "id": "IXNA-_fKooPx"
      }
    },
    {
      "cell_type": "code",
      "source": [
        "tf.reshape(Y,shape=(3,2))#atama işlemi olmadığı için Y değişmedi ama atama ile bu yeni hali alınabilir"
      ],
      "metadata": {
        "colab": {
          "base_uri": "https://localhost:8080/"
        },
        "id": "bdFagSjrn1tb",
        "outputId": "9d3de0a3-0826-457b-ffa6-cbaa18c1a80c"
      },
      "execution_count": 45,
      "outputs": [
        {
          "output_type": "execute_result",
          "data": {
            "text/plain": [
              "<tf.Tensor: shape=(3, 2), dtype=int32, numpy=\n",
              "array([[1, 2],\n",
              "       [3, 4],\n",
              "       [5, 6]], dtype=int32)>"
            ]
          },
          "metadata": {},
          "execution_count": 45
        }
      ]
    },
    {
      "cell_type": "code",
      "source": [
        "tf.transpose(Y)"
      ],
      "metadata": {
        "colab": {
          "base_uri": "https://localhost:8080/"
        },
        "id": "eNWmrv_LpRCI",
        "outputId": "4c603175-70ad-4a3f-e79a-16f23c64f10d"
      },
      "execution_count": 46,
      "outputs": [
        {
          "output_type": "execute_result",
          "data": {
            "text/plain": [
              "<tf.Tensor: shape=(3, 2), dtype=int32, numpy=\n",
              "array([[1, 4],\n",
              "       [2, 5],\n",
              "       [3, 6]], dtype=int32)>"
            ]
          },
          "metadata": {},
          "execution_count": 46
        }
      ]
    },
    {
      "cell_type": "code",
      "source": [
        "#matrix çarpımı ayrıca dotproduct iç çarpımı olarak da gösterilebilir\n",
        "#tek fark bir tanesinin tranpose olması gerektiğidir örnek gösterim:\n",
        "#tf.tensordot()\n"
      ],
      "metadata": {
        "id": "VdvkpMSqqMd0"
      },
      "execution_count": 47,
      "outputs": []
    },
    {
      "cell_type": "code",
      "source": [
        "D=tf.constant([-7,10])\n",
        "tf.abs(D)#negatif değerlerin mutlak değerini alır"
      ],
      "metadata": {
        "id": "lzIeRdHK4phF",
        "outputId": "ed9acc20-6962-43f0-b42d-0f3ce1833c2a",
        "colab": {
          "base_uri": "https://localhost:8080/"
        }
      },
      "execution_count": 48,
      "outputs": [
        {
          "output_type": "execute_result",
          "data": {
            "text/plain": [
              "<tf.Tensor: shape=(2,), dtype=int32, numpy=array([ 7, 10], dtype=int32)>"
            ]
          },
          "metadata": {},
          "execution_count": 48
        }
      ]
    },
    {
      "cell_type": "code",
      "source": [
        "E=tf.constant(np.random.randint(0,100,size=50))#random 0 10 arasında 50 elemanlı bir tensor oluşturma\n",
        "E"
      ],
      "metadata": {
        "id": "tLw-3SlU4-Nj",
        "outputId": "e086995d-b153-442c-8087-70a294f8578b",
        "colab": {
          "base_uri": "https://localhost:8080/"
        }
      },
      "execution_count": 49,
      "outputs": [
        {
          "output_type": "execute_result",
          "data": {
            "text/plain": [
              "<tf.Tensor: shape=(50,), dtype=int64, numpy=\n",
              "array([68, 80, 33, 45, 81, 20, 31,  3, 56, 30, 94, 32, 17, 52, 91, 76, 37,\n",
              "       73, 97, 96, 25, 87, 98, 55,  0, 51, 61, 75, 42, 35, 79, 50, 95, 39,\n",
              "       47, 13, 88, 54, 96, 49,  6, 10, 46, 26, 96, 88, 42, 16, 12, 48])>"
            ]
          },
          "metadata": {},
          "execution_count": 49
        }
      ]
    },
    {
      "cell_type": "code",
      "source": [
        "tf.size(E),E.shape,E.ndim"
      ],
      "metadata": {
        "id": "mX7bPhbF5H3l",
        "outputId": "f49d73e7-0a66-47ce-f542-a4f122e87125",
        "colab": {
          "base_uri": "https://localhost:8080/"
        }
      },
      "execution_count": 50,
      "outputs": [
        {
          "output_type": "execute_result",
          "data": {
            "text/plain": [
              "(<tf.Tensor: shape=(), dtype=int32, numpy=50>, TensorShape([50]), 1)"
            ]
          },
          "metadata": {},
          "execution_count": 50
        }
      ]
    },
    {
      "cell_type": "code",
      "source": [
        "#min max minor sum(toplam) mean(ortalama)\n",
        "tf.reduce_min(E),tf.reduce_max(E),tf.reduce_mean(E),tf.reduce_sum(E)"
      ],
      "metadata": {
        "id": "igGHDkj85PUP",
        "outputId": "ea5a4679-c1fb-427a-a04f-643e23ef08a9",
        "colab": {
          "base_uri": "https://localhost:8080/"
        }
      },
      "execution_count": 51,
      "outputs": [
        {
          "output_type": "execute_result",
          "data": {
            "text/plain": [
              "(<tf.Tensor: shape=(), dtype=int64, numpy=0>,\n",
              " <tf.Tensor: shape=(), dtype=int64, numpy=98>,\n",
              " <tf.Tensor: shape=(), dtype=int64, numpy=52>,\n",
              " <tf.Tensor: shape=(), dtype=int64, numpy=2641>)"
            ]
          },
          "metadata": {},
          "execution_count": 51
        }
      ]
    },
    {
      "cell_type": "code",
      "source": [
        "import tensorflow_probability as tfp#variant fonksiyonu için import edildi\n",
        "tfp.stats.variance(E)#varyans bulma"
      ],
      "metadata": {
        "id": "_KArw_OX6EL6",
        "outputId": "4a23238e-89de-4bdc-ec41-d8b8dce17408",
        "colab": {
          "base_uri": "https://localhost:8080/"
        }
      },
      "execution_count": 54,
      "outputs": [
        {
          "output_type": "execute_result",
          "data": {
            "text/plain": [
              "<tf.Tensor: shape=(), dtype=int64, numpy=858>"
            ]
          },
          "metadata": {},
          "execution_count": 54
        }
      ]
    },
    {
      "cell_type": "code",
      "source": [
        "#standart sapma\n",
        "tfp.stats.stddev(tf.cast(E,dtype=tf.float32))"
      ],
      "metadata": {
        "id": "JgFRKaWS7Jkj",
        "outputId": "633470bb-e829-4ae2-d406-6148f87bf251",
        "colab": {
          "base_uri": "https://localhost:8080/"
        }
      },
      "execution_count": 56,
      "outputs": [
        {
          "output_type": "execute_result",
          "data": {
            "text/plain": [
              "<tf.Tensor: shape=(), dtype=float32, numpy=29.290743>"
            ]
          },
          "metadata": {},
          "execution_count": 56
        }
      ]
    }
  ]
}